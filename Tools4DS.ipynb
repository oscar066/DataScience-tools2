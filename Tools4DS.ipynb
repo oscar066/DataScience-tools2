{
  "nbformat": 4,
  "nbformat_minor": 0,
  "metadata": {
    "colab": {
      "provenance": [],
      "toc_visible": true,
      "authorship_tag": "ABX9TyOv+ZXjioZx5gcc1oaKnHBj",
      "include_colab_link": true
    },
    "kernelspec": {
      "name": "python3",
      "display_name": "Python 3"
    },
    "language_info": {
      "name": "python"
    }
  },
  "cells": [
    {
      "cell_type": "markdown",
      "metadata": {
        "id": "view-in-github",
        "colab_type": "text"
      },
      "source": [
        "<a href=\"https://colab.research.google.com/github/oscar066/DataScience-tools2/blob/main/Tools4DS.ipynb\" target=\"_parent\"><img src=\"https://colab.research.google.com/assets/colab-badge.svg\" alt=\"Open In Colab\"/></a>"
      ]
    },
    {
      "cell_type": "markdown",
      "source": [
        "# **Data Science Tools**"
      ],
      "metadata": {
        "id": "iwB74lDTL7HX"
      }
    },
    {
      "cell_type": "markdown",
      "source": [
        "## The story of Git and Github"
      ],
      "metadata": {
        "id": "wxI5AMUmzOaE"
      }
    },
    {
      "cell_type": "markdown",
      "source": [
        "### Birth of Git\n",
        "\n",
        "In 2005, the Linux kernel project faced a crisis. Their version control system, BitKeeper, withdrew free use of their product. This led Linus Torvalds, the creator of Linux, to develop his own version control system - Git. The name \"Git\" is a British slang term for a foolish or unpleasant person, and Linus jokingly named it after himself!"
      ],
      "metadata": {
        "id": "EZeGWM7JzVxb"
      }
    },
    {
      "cell_type": "markdown",
      "source": [
        "## Enter GitHub\n",
        "\n",
        "In 2008, GitHub was founded by Tom Preston-Werner, Chris Wanstrath, and PJ Hyett. They transformed Git from a command-line tool into a web-based platform that made collaboration easier. Microsoft acquired GitHub in 2018 for $7.5 billion, marking its significance in the software development world."
      ],
      "metadata": {
        "id": "iBpa0G2tzkjt"
      }
    },
    {
      "cell_type": "markdown",
      "source": [
        "## Why Version Control Matters in Data Science\n",
        "\n",
        "Version control is crucial in data science for several reasons:\n",
        "\n",
        "Tracking changes in code and datasets\n",
        "Collaborating with team members\n",
        "Maintaining different versions of models\n",
        "Ensuring reproducibility of results\n",
        "Managing project dependencies"
      ],
      "metadata": {
        "id": "33L6o9jmzwLH"
      }
    },
    {
      "cell_type": "markdown",
      "source": [
        "## Setting Up Your **Account**"
      ],
      "metadata": {
        "id": "OJZMsTTgM7rK"
      }
    },
    {
      "cell_type": "markdown",
      "source": [
        "### 1. Install Git"
      ],
      "metadata": {
        "id": "Rhi3smy30EN_"
      }
    },
    {
      "cell_type": "code",
      "source": [
        "# For Ubuntu/Debian\n",
        "!sudo apt-get install git\n",
        "\n",
        "# For MacOS (using Homebrew)\n",
        "!brew install git\n",
        "\n",
        "# For Windows\n",
        "# Download from https://git-scm.com/download/win\n",
        "\n",
        "# download bash"
      ],
      "metadata": {
        "id": "trLCaNuH0Hnx"
      },
      "execution_count": null,
      "outputs": []
    },
    {
      "cell_type": "markdown",
      "source": [
        "### 2. Configure Git"
      ],
      "metadata": {
        "id": "TqB3OKzk0KkG"
      }
    },
    {
      "cell_type": "code",
      "source": [
        "# configuring username\n",
        "!git config --global user.name \"Your Name\"\n",
        "\n",
        "# configuring email\n",
        "!git config --global user.email \"your.email@example.com\""
      ],
      "metadata": {
        "id": "1IKor99r0Obt"
      },
      "execution_count": null,
      "outputs": []
    },
    {
      "cell_type": "markdown",
      "source": [
        "## Essential Git Commands Explained"
      ],
      "metadata": {
        "id": "j-7iTAFZNRxF"
      }
    },
    {
      "cell_type": "markdown",
      "source": [
        "### 1. git status\n",
        "\n",
        "purpose: Shows the current state of your working directory and staging area"
      ],
      "metadata": {
        "id": "IFmPvVAk0aFC"
      }
    },
    {
      "cell_type": "code",
      "source": [
        "!git status"
      ],
      "metadata": {
        "colab": {
          "base_uri": "https://localhost:8080/"
        },
        "id": "bOEoODnk0md5",
        "outputId": "d79edf64-1a1b-4117-eb18-4ea13935d2fb"
      },
      "execution_count": null,
      "outputs": [
        {
          "output_type": "stream",
          "name": "stdout",
          "text": [
            "fatal: not a git repository (or any of the parent directories): .git\n"
          ]
        }
      ]
    },
    {
      "cell_type": "markdown",
      "source": [
        "### 2. git add"
      ],
      "metadata": {
        "id": "ng9qTIic0rPj"
      }
    },
    {
      "cell_type": "markdown",
      "source": [
        "Purpose: Stages changes for commit."
      ],
      "metadata": {
        "id": "zUAwjfl40vQD"
      }
    },
    {
      "cell_type": "code",
      "source": [
        "!git add <file_name> # add a single file\n",
        "\n",
        "!git add . # add all files"
      ],
      "metadata": {
        "colab": {
          "base_uri": "https://localhost:8080/"
        },
        "id": "7gM2tVVt0qY4",
        "outputId": "9d4c2306-9d67-477b-8289-726b7039020b"
      },
      "execution_count": null,
      "outputs": [
        {
          "output_type": "stream",
          "name": "stdout",
          "text": [
            "/bin/bash: -c: line 1: syntax error near unexpected token `newline'\n",
            "/bin/bash: -c: line 1: `git add <file_name> # add a single file'\n",
            "fatal: not a git repository (or any of the parent directories): .git\n"
          ]
        }
      ]
    },
    {
      "cell_type": "markdown",
      "source": [
        "### 3. git commit\n",
        "\n",
        "Purpose: Creates a snapshot of staged changes.\n",
        "\n",
        "Best practices for commit messages:\n",
        "\n",
        "*   Be specific but concise\n",
        "*   Start with a verb\n",
        "\n"
      ],
      "metadata": {
        "id": "IxyC1AgE1B5d"
      }
    },
    {
      "cell_type": "code",
      "source": [
        "!git commit -m \"Add random forest classifier for prediction\""
      ],
      "metadata": {
        "colab": {
          "base_uri": "https://localhost:8080/"
        },
        "id": "12NZ4kh91ca6",
        "outputId": "696e6fb9-3f92-40a1-81e2-dc9885990687"
      },
      "execution_count": null,
      "outputs": [
        {
          "output_type": "stream",
          "name": "stdout",
          "text": [
            "fatal: not a git repository (or any of the parent directories): .git\n"
          ]
        }
      ]
    },
    {
      "cell_type": "markdown",
      "source": [
        "### 4. git push\n",
        "\n",
        " Purpose: Uploads local commits to remote repository.\n",
        "\n",
        " Best practice: Always pull before starting new work."
      ],
      "metadata": {
        "id": "Eem3BP-p1fP2"
      }
    },
    {
      "cell_type": "code",
      "source": [
        "!git push origin main\n",
        "\n",
        "!git push"
      ],
      "metadata": {
        "colab": {
          "base_uri": "https://localhost:8080/"
        },
        "id": "XrYX36F51t3e",
        "outputId": "33092c3c-9ef8-4265-b499-807633369bad"
      },
      "execution_count": null,
      "outputs": [
        {
          "output_type": "stream",
          "name": "stdout",
          "text": [
            "fatal: not a git repository (or any of the parent directories): .git\n",
            "fatal: not a git repository (or any of the parent directories): .git\n"
          ]
        }
      ]
    },
    {
      "cell_type": "markdown",
      "source": [
        "### 5. git pull\n",
        "\n",
        "**Purpose**: Updates local repository with remote changes.\n",
        "\n",
        "**Best practice:** Always pull before starting new work."
      ],
      "metadata": {
        "id": "Hne0tloD2VKZ"
      }
    },
    {
      "cell_type": "code",
      "source": [
        "!git pull origin main\n",
        "\n",
        "!git pull"
      ],
      "metadata": {
        "colab": {
          "base_uri": "https://localhost:8080/"
        },
        "id": "CraNElz82jpE",
        "outputId": "cda8b5ec-a02c-4926-c918-7abb005c5610"
      },
      "execution_count": null,
      "outputs": [
        {
          "output_type": "stream",
          "name": "stdout",
          "text": [
            "fatal: not a git repository (or any of the parent directories): .git\n",
            "fatal: not a git repository (or any of the parent directories): .git\n"
          ]
        }
      ]
    },
    {
      "cell_type": "markdown",
      "source": [
        "### 6. git fetch\n",
        "\n",
        "Purpose: Downloads remote changes without merging.\n",
        "\n",
        "**Difference from pull**: Fetch is like checking what's new, pull is like checking and applying what's new."
      ],
      "metadata": {
        "id": "qKJZLcSn10gQ"
      }
    },
    {
      "cell_type": "code",
      "source": [
        "!git fetch # checking for what's new"
      ],
      "metadata": {
        "colab": {
          "base_uri": "https://localhost:8080/"
        },
        "id": "u3s-vMxy2Gvm",
        "outputId": "181cdef3-b081-4ffd-a5b6-65203b6508bd"
      },
      "execution_count": null,
      "outputs": [
        {
          "output_type": "stream",
          "name": "stdout",
          "text": [
            "fatal: not a git repository (or any of the parent directories): .git\n"
          ]
        }
      ]
    },
    {
      "cell_type": "markdown",
      "source": [
        "### 7. git clone\n",
        "\n",
        "**Purpose:** Creates local copy of remote repository.\n"
      ],
      "metadata": {
        "id": "UfHcykBB2pOg"
      }
    },
    {
      "cell_type": "code",
      "source": [
        "!git clone https://github.com/username/project.git"
      ],
      "metadata": {
        "id": "7OBbcFPi22M6"
      },
      "execution_count": null,
      "outputs": []
    },
    {
      "cell_type": "markdown",
      "source": [
        "Best Practices for Data Scientists\n",
        "\n",
        "* Commit Often: Make small, logical commits\n",
        "* Branch Strategically: Create branches for different experiments\n",
        "* Document Well: Write clear commit messages\n",
        "* Handle Large Files: Use Git LFS for large datasets\n",
        "* Ignore Unnecessary Files: Use .gitignore for:\n",
        "\n",
        "  * Virtual environments\n",
        "  * Cached files\n",
        "  * Large datasets\n",
        "  * Personal IDE settings\n",
        "\n",
        "\n",
        "\n"
      ],
      "metadata": {
        "id": "BkAcwTRE2_na"
      }
    },
    {
      "cell_type": "markdown",
      "source": [
        "## 2. Essential Data Science tools"
      ],
      "metadata": {
        "id": "lj12fjrm4Oaf"
      }
    },
    {
      "cell_type": "markdown",
      "source": [
        "### 1. NumPy: The Foundation of Scientific Computing"
      ],
      "metadata": {
        "id": "A8aYMsYT4_14"
      }
    },
    {
      "cell_type": "markdown",
      "source": [
        "### What is NumPy?\n",
        "\n",
        "NumPy (Numerical Python) is the fundamental package for numerical computing in Python. It provides support for large, multi-dimensional arrays and matrices, along with a vast collection of high-level mathematical functions to operate on these arrays.\n"
      ],
      "metadata": {
        "id": "aD5dCzKO5ct0"
      }
    },
    {
      "cell_type": "markdown",
      "source": [
        "### Origin Story\n",
        "\n",
        "* Created by Travis Oliphant in 2005\n",
        "* Built upon the foundation of Numeric and Numarray\n",
        "* Originally part of the SciPy project\n",
        "* Now maintained by NumFOCUS ,a non-profit organisation"
      ],
      "metadata": {
        "id": "dp61H5yi5s3_"
      }
    },
    {
      "cell_type": "markdown",
      "source": [
        "**Advantages over pure Python built-in data structures**\n",
        "\n",
        "* Speed: Uses optimized C code under the hood\n",
        "* Memory Efficiency: Contiguous memory storage\n",
        "* Vectorization: Perform operations on entire arrays without loops\n",
        "* Broadcasting: Automatic array shape handling\n",
        "* Scientific computing support: Built-in linear algebra operations"
      ],
      "metadata": {
        "id": "1DI3_HNk6asO"
      }
    },
    {
      "cell_type": "markdown",
      "source": [
        "### Common Numpy Operations"
      ],
      "metadata": {
        "id": "GP9xBA7B8KDj"
      }
    },
    {
      "cell_type": "code",
      "source": [
        "import numpy as np\n",
        "\n",
        "# Creating arrays\n",
        "arr1 = np.array([1, 2, 3, 4, 5])\n",
        "arr2 = np.zeros((3, 3))\n",
        "arr3 = np.random.rand(10)  # Random numbers\n",
        "\n",
        "print(f\"Simple Array: \",arr1)\n",
        "print(f\"Array of 3 rows and 3 columns: \",arr2)\n",
        "print(f\"Array of 10 random numbers: \",arr3)"
      ],
      "metadata": {
        "colab": {
          "base_uri": "https://localhost:8080/"
        },
        "id": "TdvlE1bb8OMN",
        "outputId": "90ed629e-6659-4d20-f84f-b039bc16e633"
      },
      "execution_count": null,
      "outputs": [
        {
          "output_type": "stream",
          "name": "stdout",
          "text": [
            "Simple Array:  [1 2 3 4 5]\n",
            "Array of 3 rows and 3 columns:  [[0. 0. 0.]\n",
            " [0. 0. 0.]\n",
            " [0. 0. 0.]]\n",
            "Array of 10 random numbers:  [0.73585164 0.79529015 0.28260499 0.69483782 0.79480816 0.84681421\n",
            " 0.48715325 0.95929302 0.06397987 0.59208487]\n"
          ]
        }
      ]
    },
    {
      "cell_type": "code",
      "source": [
        "# Array operations\n",
        "\n",
        "# 1.Multiplication\n",
        "arr4 = arr1 * 2\n",
        "\n",
        "# 2.Element-wise square root\n",
        "arr5 = np.sqrt(arr1)\n",
        "\n",
        " # 3.Addition\n",
        "arr6 = arr1 + arr1\n",
        "\n",
        "print(f\"Array after multiplication: \",arr4)\n",
        "print(f\"Array after square root: \",arr5)\n",
        "print(f\"Array after addition: \",arr6)"
      ],
      "metadata": {
        "colab": {
          "base_uri": "https://localhost:8080/"
        },
        "id": "KBvRn7p3p7B7",
        "outputId": "cf0a3b4d-a21d-4b18-8755-3a2f98d41249"
      },
      "execution_count": null,
      "outputs": [
        {
          "output_type": "stream",
          "name": "stdout",
          "text": [
            "Array after multiplication:  [ 2  4  6  8 10]\n",
            "Array after square root:  [1.         1.41421356 1.73205081 2.         2.23606798]\n",
            "Array after addition:  [ 2  4  6  8 10]\n"
          ]
        }
      ]
    },
    {
      "cell_type": "code",
      "source": [
        "# Reshaping\n",
        "matrix = arr1.reshape(5, 1)\n",
        "\n",
        "print(f\"Reshaped Matrix: \",matrix)"
      ],
      "metadata": {
        "colab": {
          "base_uri": "https://localhost:8080/"
        },
        "id": "YN5x-Jl_p9Xl",
        "outputId": "1b068fdb-1530-4036-ce4e-c57eee22e87d"
      },
      "execution_count": null,
      "outputs": [
        {
          "output_type": "stream",
          "name": "stdout",
          "text": [
            "Reshaped Matrix:  [[1]\n",
            " [2]\n",
            " [3]\n",
            " [4]\n",
            " [5]]\n"
          ]
        }
      ]
    },
    {
      "cell_type": "code",
      "source": [
        "# Statistical operations\n",
        "\n",
        "# 1. Mean\n",
        "mean = np.mean(arr1)\n",
        "\n",
        "# 2. Standard deviation\n",
        "std = np.std(arr1)\n",
        "\n",
        "# 3. Max value\n",
        "max_val = np.max(arr1)\n",
        "\n",
        "print(f\"Mean: \",mean)\n",
        "print(f\"Standard Deviation: \",std)\n",
        "print(f\"Max Value: \",max_val)"
      ],
      "metadata": {
        "colab": {
          "base_uri": "https://localhost:8080/"
        },
        "id": "rrfA-UVWp_v1",
        "outputId": "f1022e0a-9568-4b7d-c267-d881584adf38"
      },
      "execution_count": null,
      "outputs": [
        {
          "output_type": "stream",
          "name": "stdout",
          "text": [
            "Mean:  3.0\n",
            "Standard Deviation:  1.4142135623730951\n",
            "Max Value:  5\n"
          ]
        }
      ]
    },
    {
      "cell_type": "markdown",
      "source": [
        "### Linear Algebra Operations"
      ],
      "metadata": {
        "id": "BEMyzUfS8SGY"
      }
    },
    {
      "cell_type": "code",
      "source": [
        "# Matrix operations\n",
        "A = np.array([[1, 2], [3, 4]])\n",
        "B = np.array([[5, 6], [7, 8]])\n",
        "\n",
        "# Matrix multiplication\n",
        "C = np.dot(A, B)\n",
        "\n",
        "print(f\"Matrix Multiplication: \",C)"
      ],
      "metadata": {
        "colab": {
          "base_uri": "https://localhost:8080/"
        },
        "id": "TUNR6kao8JXx",
        "outputId": "a223a2aa-6f97-4216-8802-82dfbf84d3a5"
      },
      "execution_count": null,
      "outputs": [
        {
          "output_type": "stream",
          "name": "stdout",
          "text": [
            "Matrix Multiplication:  [[19 22]\n",
            " [43 50]]\n"
          ]
        }
      ]
    },
    {
      "cell_type": "code",
      "source": [
        "D = np.array([[3, 1], [1, 2]])\n",
        "E = np.array([9, 8])\n",
        "\n",
        "F = np.linalg.solve(D, E)\n",
        "\n",
        "print(\"Solution for X:\", F)"
      ],
      "metadata": {
        "colab": {
          "base_uri": "https://localhost:8080/"
        },
        "id": "vs7LgsLZwEVQ",
        "outputId": "3f50814b-b573-4130-9492-8033cd469327"
      },
      "execution_count": null,
      "outputs": [
        {
          "output_type": "stream",
          "name": "stdout",
          "text": [
            "Solution for X: [2. 3.]\n"
          ]
        }
      ]
    },
    {
      "cell_type": "code",
      "source": [
        "# Eigenvalues and eigenvectors\n",
        "eigenvals, eigenvects = np.linalg.eig(A)\n",
        "\n",
        "print(f\"Eigenvalues: \",eigenvals)\n",
        "print(f\"Eigenvectors: \",eigenvects)"
      ],
      "metadata": {
        "colab": {
          "base_uri": "https://localhost:8080/"
        },
        "id": "F_ZsHkOerZV3",
        "outputId": "3ef0bf8f-ed32-4b3f-9453-0f684b5658ca"
      },
      "execution_count": null,
      "outputs": [
        {
          "output_type": "stream",
          "name": "stdout",
          "text": [
            "Eigenvalues:  [-0.37228132  5.37228132]\n",
            "Eigenvectors:  [[-0.82456484 -0.41597356]\n",
            " [ 0.56576746 -0.90937671]]\n"
          ]
        }
      ]
    },
    {
      "cell_type": "markdown",
      "source": [
        "Eigenvalues represent the \"scaling factors\" for the eigenvectors. They indicate how much the direction of the eigenvector is \"stretched\" when multiplied by\n",
        "𝐴\n",
        "A.\n",
        "\n",
        "Eigenvectors are non-zero vectors that change only in scale (not direction) when the transformation represented by\n",
        "𝐴\n",
        "A is applied.:"
      ],
      "metadata": {
        "id": "9kbLlpZNtXRM"
      }
    },
    {
      "cell_type": "code",
      "source": [
        "# Solving linear equations\n",
        "x = np.linalg.solve(A, B)\n",
        "\n",
        "print(f\"Solution: \",x)"
      ],
      "metadata": {
        "colab": {
          "base_uri": "https://localhost:8080/"
        },
        "id": "uQ65tkeorjyV",
        "outputId": "f87cc23f-dea2-4615-cda6-d77d9b3fb439"
      },
      "execution_count": null,
      "outputs": [
        {
          "output_type": "stream",
          "name": "stdout",
          "text": [
            "Solution:  [[-3. -4.]\n",
            " [ 4.  5.]]\n"
          ]
        }
      ]
    },
    {
      "cell_type": "code",
      "source": [
        "# Matrix determinant\n",
        "det = np.linalg.det(A)\n",
        "\n",
        "print(f\"Determinant: \", det)"
      ],
      "metadata": {
        "colab": {
          "base_uri": "https://localhost:8080/"
        },
        "id": "J0wALEeBrRfj",
        "outputId": "24fc7490-466a-4e0e-bf4a-f0ee12467827"
      },
      "execution_count": null,
      "outputs": [
        {
          "output_type": "stream",
          "name": "stdout",
          "text": [
            "Determinant:  -2.0000000000000004\n"
          ]
        }
      ]
    },
    {
      "cell_type": "markdown",
      "source": [
        "### Arrays and Vectorized Computations"
      ],
      "metadata": {
        "id": "iafkInWH8a8j"
      }
    },
    {
      "cell_type": "code",
      "source": [
        "import time\n",
        "# Vectorized operations (much faster than loops)\n",
        "\n",
        "# Time for Python list\n",
        "start = time.time()\n",
        "sum_py_list = sum([i for i in range(1000000)])\n",
        "end = time.time()\n",
        "print(\"Time for Python list:\", end - start)\n",
        "\n",
        "# Time for NumPy array\n",
        "arr = np.arange(1000000)\n",
        "start = time.time()\n",
        "sum_np_array = np.sum(arr)\n",
        "end = time.time()\n",
        "print(\"Time for NumPy array:\", end - start)"
      ],
      "metadata": {
        "colab": {
          "base_uri": "https://localhost:8080/"
        },
        "id": "KaL8vZKcubMX",
        "outputId": "7f3d82fd-11d6-4c7c-8eb7-6406f91f5642"
      },
      "execution_count": null,
      "outputs": [
        {
          "output_type": "stream",
          "name": "stdout",
          "text": [
            "Time for Python list: 0.30519747734069824\n",
            "Time for NumPy array: 0.028299570083618164\n"
          ]
        }
      ]
    },
    {
      "cell_type": "markdown",
      "source": [
        "NumPy arrays can be 10-100x faster than Python lists for operations like this, especially for large arrays, due to the optimized vectorized operations."
      ],
      "metadata": {
        "id": "KTh4gZ4dur7m"
      }
    },
    {
      "cell_type": "code",
      "source": [
        "# Vectorized operations (much faster than loops)\n",
        "arr = np.arange(1000000)\n",
        "result = np.sin(arr) + np.cos(arr)\n",
        "\n",
        "# Broadcasting\n",
        "matrix = np.random.rand(3, 4)\n",
        "row_means = matrix.mean(axis=1)  # Mean of each row\n",
        "normalized = matrix - row_means.reshape(-1, 1)\n",
        "\n",
        "print(f\"Result: \",result)\n",
        "print(f\"Normalized Matrix: \",normalized)"
      ],
      "metadata": {
        "colab": {
          "base_uri": "https://localhost:8080/"
        },
        "id": "f1QL-tda8fqe",
        "outputId": "19ff706c-d383-4a32-d1c0-545036bae8a6"
      },
      "execution_count": null,
      "outputs": [
        {
          "output_type": "stream",
          "name": "stdout",
          "text": [
            "Result:  [ 1.          1.38177329  0.49315059 ... -0.76247219 -1.41421224\n",
            " -0.76573207]\n",
            "Normalized Matrix:  [[ 0.1510564   0.36174931  0.04961049 -0.5624162 ]\n",
            " [-0.32539663 -0.15482957  0.09074228  0.38948392]\n",
            " [ 0.18636719  0.18760933 -0.58008832  0.20611181]]\n"
          ]
        }
      ]
    },
    {
      "cell_type": "markdown",
      "source": [
        "## 2. Pandas: Data Manipulation and Analysis"
      ],
      "metadata": {
        "id": "g4VhYx7P-fo5"
      }
    },
    {
      "cell_type": "markdown",
      "source": [
        "### What is Pandas?\n",
        "\n",
        "Pandas is a fast, powerful, and flexible open-source data analysis and manipulation tool built on top of NumPy.\n",
        "\n",
        "### Origin Story\n",
        "\n",
        "* Created by Wes McKinney in 2008 while at AQR Capital Management\n",
        "* Named after \"Panel Data\" - an econometrics term\n",
        "* Originally developed for financial data analysis\n",
        "* Now widely used across various industries"
      ],
      "metadata": {
        "id": "fCAGkcAl-4Nt"
      }
    },
    {
      "cell_type": "markdown",
      "source": [
        "### Common Operations"
      ],
      "metadata": {
        "id": "urYtioi8_iZJ"
      }
    },
    {
      "cell_type": "code",
      "source": [
        "import csv\n",
        "\n",
        "# Create a simple CSV file\n",
        "data = [\n",
        "    ['Name', 'Age', 'City'],\n",
        "    ['Alice', 30, 'New York'],\n",
        "    ['Bob', 25, 'Los Angeles'],\n",
        "    ['Charlie', 35, 'Chicago']\n",
        "]\n",
        "\n",
        "# Write data to a CSV file\n",
        "with open('sample_data.csv', mode='w', newline='') as file:\n",
        "    writer = csv.writer(file)\n",
        "    writer.writerows(data)"
      ],
      "metadata": {
        "id": "iw2TIz7dsJZj"
      },
      "execution_count": null,
      "outputs": []
    },
    {
      "cell_type": "code",
      "source": [
        "import pandas as pd\n",
        "\n",
        "# Reading data\n",
        "df = pd.read_csv('sample_data.csv')\n",
        "# excel_data = pd.read_excel('data.xlsx')\n",
        "\n",
        "df.head()"
      ],
      "metadata": {
        "colab": {
          "base_uri": "https://localhost:8080/",
          "height": 143
        },
        "collapsed": true,
        "id": "kDwLYccg_bKO",
        "outputId": "8aceb3ca-562c-457f-9f49-3985d929f066"
      },
      "execution_count": null,
      "outputs": [
        {
          "output_type": "execute_result",
          "data": {
            "text/plain": [
              "      Name  Age         City\n",
              "0    Alice   30     New York\n",
              "1      Bob   25  Los Angeles\n",
              "2  Charlie   35      Chicago"
            ],
            "text/html": [
              "\n",
              "  <div id=\"df-c74dbce8-1254-4c5d-bd2c-79c49f810f94\" class=\"colab-df-container\">\n",
              "    <div>\n",
              "<style scoped>\n",
              "    .dataframe tbody tr th:only-of-type {\n",
              "        vertical-align: middle;\n",
              "    }\n",
              "\n",
              "    .dataframe tbody tr th {\n",
              "        vertical-align: top;\n",
              "    }\n",
              "\n",
              "    .dataframe thead th {\n",
              "        text-align: right;\n",
              "    }\n",
              "</style>\n",
              "<table border=\"1\" class=\"dataframe\">\n",
              "  <thead>\n",
              "    <tr style=\"text-align: right;\">\n",
              "      <th></th>\n",
              "      <th>Name</th>\n",
              "      <th>Age</th>\n",
              "      <th>City</th>\n",
              "    </tr>\n",
              "  </thead>\n",
              "  <tbody>\n",
              "    <tr>\n",
              "      <th>0</th>\n",
              "      <td>Alice</td>\n",
              "      <td>30</td>\n",
              "      <td>New York</td>\n",
              "    </tr>\n",
              "    <tr>\n",
              "      <th>1</th>\n",
              "      <td>Bob</td>\n",
              "      <td>25</td>\n",
              "      <td>Los Angeles</td>\n",
              "    </tr>\n",
              "    <tr>\n",
              "      <th>2</th>\n",
              "      <td>Charlie</td>\n",
              "      <td>35</td>\n",
              "      <td>Chicago</td>\n",
              "    </tr>\n",
              "  </tbody>\n",
              "</table>\n",
              "</div>\n",
              "    <div class=\"colab-df-buttons\">\n",
              "\n",
              "  <div class=\"colab-df-container\">\n",
              "    <button class=\"colab-df-convert\" onclick=\"convertToInteractive('df-c74dbce8-1254-4c5d-bd2c-79c49f810f94')\"\n",
              "            title=\"Convert this dataframe to an interactive table.\"\n",
              "            style=\"display:none;\">\n",
              "\n",
              "  <svg xmlns=\"http://www.w3.org/2000/svg\" height=\"24px\" viewBox=\"0 -960 960 960\">\n",
              "    <path d=\"M120-120v-720h720v720H120Zm60-500h600v-160H180v160Zm220 220h160v-160H400v160Zm0 220h160v-160H400v160ZM180-400h160v-160H180v160Zm440 0h160v-160H620v160ZM180-180h160v-160H180v160Zm440 0h160v-160H620v160Z\"/>\n",
              "  </svg>\n",
              "    </button>\n",
              "\n",
              "  <style>\n",
              "    .colab-df-container {\n",
              "      display:flex;\n",
              "      gap: 12px;\n",
              "    }\n",
              "\n",
              "    .colab-df-convert {\n",
              "      background-color: #E8F0FE;\n",
              "      border: none;\n",
              "      border-radius: 50%;\n",
              "      cursor: pointer;\n",
              "      display: none;\n",
              "      fill: #1967D2;\n",
              "      height: 32px;\n",
              "      padding: 0 0 0 0;\n",
              "      width: 32px;\n",
              "    }\n",
              "\n",
              "    .colab-df-convert:hover {\n",
              "      background-color: #E2EBFA;\n",
              "      box-shadow: 0px 1px 2px rgba(60, 64, 67, 0.3), 0px 1px 3px 1px rgba(60, 64, 67, 0.15);\n",
              "      fill: #174EA6;\n",
              "    }\n",
              "\n",
              "    .colab-df-buttons div {\n",
              "      margin-bottom: 4px;\n",
              "    }\n",
              "\n",
              "    [theme=dark] .colab-df-convert {\n",
              "      background-color: #3B4455;\n",
              "      fill: #D2E3FC;\n",
              "    }\n",
              "\n",
              "    [theme=dark] .colab-df-convert:hover {\n",
              "      background-color: #434B5C;\n",
              "      box-shadow: 0px 1px 3px 1px rgba(0, 0, 0, 0.15);\n",
              "      filter: drop-shadow(0px 1px 2px rgba(0, 0, 0, 0.3));\n",
              "      fill: #FFFFFF;\n",
              "    }\n",
              "  </style>\n",
              "\n",
              "    <script>\n",
              "      const buttonEl =\n",
              "        document.querySelector('#df-c74dbce8-1254-4c5d-bd2c-79c49f810f94 button.colab-df-convert');\n",
              "      buttonEl.style.display =\n",
              "        google.colab.kernel.accessAllowed ? 'block' : 'none';\n",
              "\n",
              "      async function convertToInteractive(key) {\n",
              "        const element = document.querySelector('#df-c74dbce8-1254-4c5d-bd2c-79c49f810f94');\n",
              "        const dataTable =\n",
              "          await google.colab.kernel.invokeFunction('convertToInteractive',\n",
              "                                                    [key], {});\n",
              "        if (!dataTable) return;\n",
              "\n",
              "        const docLinkHtml = 'Like what you see? Visit the ' +\n",
              "          '<a target=\"_blank\" href=https://colab.research.google.com/notebooks/data_table.ipynb>data table notebook</a>'\n",
              "          + ' to learn more about interactive tables.';\n",
              "        element.innerHTML = '';\n",
              "        dataTable['output_type'] = 'display_data';\n",
              "        await google.colab.output.renderOutput(dataTable, element);\n",
              "        const docLink = document.createElement('div');\n",
              "        docLink.innerHTML = docLinkHtml;\n",
              "        element.appendChild(docLink);\n",
              "      }\n",
              "    </script>\n",
              "  </div>\n",
              "\n",
              "\n",
              "<div id=\"df-9c922be4-4097-44b1-8586-1540d4bbbd14\">\n",
              "  <button class=\"colab-df-quickchart\" onclick=\"quickchart('df-9c922be4-4097-44b1-8586-1540d4bbbd14')\"\n",
              "            title=\"Suggest charts\"\n",
              "            style=\"display:none;\">\n",
              "\n",
              "<svg xmlns=\"http://www.w3.org/2000/svg\" height=\"24px\"viewBox=\"0 0 24 24\"\n",
              "     width=\"24px\">\n",
              "    <g>\n",
              "        <path d=\"M19 3H5c-1.1 0-2 .9-2 2v14c0 1.1.9 2 2 2h14c1.1 0 2-.9 2-2V5c0-1.1-.9-2-2-2zM9 17H7v-7h2v7zm4 0h-2V7h2v10zm4 0h-2v-4h2v4z\"/>\n",
              "    </g>\n",
              "</svg>\n",
              "  </button>\n",
              "\n",
              "<style>\n",
              "  .colab-df-quickchart {\n",
              "      --bg-color: #E8F0FE;\n",
              "      --fill-color: #1967D2;\n",
              "      --hover-bg-color: #E2EBFA;\n",
              "      --hover-fill-color: #174EA6;\n",
              "      --disabled-fill-color: #AAA;\n",
              "      --disabled-bg-color: #DDD;\n",
              "  }\n",
              "\n",
              "  [theme=dark] .colab-df-quickchart {\n",
              "      --bg-color: #3B4455;\n",
              "      --fill-color: #D2E3FC;\n",
              "      --hover-bg-color: #434B5C;\n",
              "      --hover-fill-color: #FFFFFF;\n",
              "      --disabled-bg-color: #3B4455;\n",
              "      --disabled-fill-color: #666;\n",
              "  }\n",
              "\n",
              "  .colab-df-quickchart {\n",
              "    background-color: var(--bg-color);\n",
              "    border: none;\n",
              "    border-radius: 50%;\n",
              "    cursor: pointer;\n",
              "    display: none;\n",
              "    fill: var(--fill-color);\n",
              "    height: 32px;\n",
              "    padding: 0;\n",
              "    width: 32px;\n",
              "  }\n",
              "\n",
              "  .colab-df-quickchart:hover {\n",
              "    background-color: var(--hover-bg-color);\n",
              "    box-shadow: 0 1px 2px rgba(60, 64, 67, 0.3), 0 1px 3px 1px rgba(60, 64, 67, 0.15);\n",
              "    fill: var(--button-hover-fill-color);\n",
              "  }\n",
              "\n",
              "  .colab-df-quickchart-complete:disabled,\n",
              "  .colab-df-quickchart-complete:disabled:hover {\n",
              "    background-color: var(--disabled-bg-color);\n",
              "    fill: var(--disabled-fill-color);\n",
              "    box-shadow: none;\n",
              "  }\n",
              "\n",
              "  .colab-df-spinner {\n",
              "    border: 2px solid var(--fill-color);\n",
              "    border-color: transparent;\n",
              "    border-bottom-color: var(--fill-color);\n",
              "    animation:\n",
              "      spin 1s steps(1) infinite;\n",
              "  }\n",
              "\n",
              "  @keyframes spin {\n",
              "    0% {\n",
              "      border-color: transparent;\n",
              "      border-bottom-color: var(--fill-color);\n",
              "      border-left-color: var(--fill-color);\n",
              "    }\n",
              "    20% {\n",
              "      border-color: transparent;\n",
              "      border-left-color: var(--fill-color);\n",
              "      border-top-color: var(--fill-color);\n",
              "    }\n",
              "    30% {\n",
              "      border-color: transparent;\n",
              "      border-left-color: var(--fill-color);\n",
              "      border-top-color: var(--fill-color);\n",
              "      border-right-color: var(--fill-color);\n",
              "    }\n",
              "    40% {\n",
              "      border-color: transparent;\n",
              "      border-right-color: var(--fill-color);\n",
              "      border-top-color: var(--fill-color);\n",
              "    }\n",
              "    60% {\n",
              "      border-color: transparent;\n",
              "      border-right-color: var(--fill-color);\n",
              "    }\n",
              "    80% {\n",
              "      border-color: transparent;\n",
              "      border-right-color: var(--fill-color);\n",
              "      border-bottom-color: var(--fill-color);\n",
              "    }\n",
              "    90% {\n",
              "      border-color: transparent;\n",
              "      border-bottom-color: var(--fill-color);\n",
              "    }\n",
              "  }\n",
              "</style>\n",
              "\n",
              "  <script>\n",
              "    async function quickchart(key) {\n",
              "      const quickchartButtonEl =\n",
              "        document.querySelector('#' + key + ' button');\n",
              "      quickchartButtonEl.disabled = true;  // To prevent multiple clicks.\n",
              "      quickchartButtonEl.classList.add('colab-df-spinner');\n",
              "      try {\n",
              "        const charts = await google.colab.kernel.invokeFunction(\n",
              "            'suggestCharts', [key], {});\n",
              "      } catch (error) {\n",
              "        console.error('Error during call to suggestCharts:', error);\n",
              "      }\n",
              "      quickchartButtonEl.classList.remove('colab-df-spinner');\n",
              "      quickchartButtonEl.classList.add('colab-df-quickchart-complete');\n",
              "    }\n",
              "    (() => {\n",
              "      let quickchartButtonEl =\n",
              "        document.querySelector('#df-9c922be4-4097-44b1-8586-1540d4bbbd14 button');\n",
              "      quickchartButtonEl.style.display =\n",
              "        google.colab.kernel.accessAllowed ? 'block' : 'none';\n",
              "    })();\n",
              "  </script>\n",
              "</div>\n",
              "\n",
              "    </div>\n",
              "  </div>\n"
            ],
            "application/vnd.google.colaboratory.intrinsic+json": {
              "type": "dataframe",
              "variable_name": "df",
              "summary": "{\n  \"name\": \"df\",\n  \"rows\": 3,\n  \"fields\": [\n    {\n      \"column\": \"Name\",\n      \"properties\": {\n        \"dtype\": \"string\",\n        \"num_unique_values\": 3,\n        \"samples\": [\n          \"Alice\",\n          \"Bob\",\n          \"Charlie\"\n        ],\n        \"semantic_type\": \"\",\n        \"description\": \"\"\n      }\n    },\n    {\n      \"column\": \"Age\",\n      \"properties\": {\n        \"dtype\": \"number\",\n        \"std\": 5,\n        \"min\": 25,\n        \"max\": 35,\n        \"num_unique_values\": 3,\n        \"samples\": [\n          30,\n          25,\n          35\n        ],\n        \"semantic_type\": \"\",\n        \"description\": \"\"\n      }\n    },\n    {\n      \"column\": \"City\",\n      \"properties\": {\n        \"dtype\": \"string\",\n        \"num_unique_values\": 3,\n        \"samples\": [\n          \"New York\",\n          \"Los Angeles\",\n          \"Chicago\"\n        ],\n        \"semantic_type\": \"\",\n        \"description\": \"\"\n      }\n    }\n  ]\n}"
            }
          },
          "metadata": {},
          "execution_count": 35
        }
      ]
    },
    {
      "cell_type": "code",
      "source": [
        "# Basic operations\n",
        "\n",
        "# View first 5 rows\n",
        "head = df.head(10)\n",
        "\n",
        "# Dataset info\n",
        "info = df.info()\n",
        "\n",
        "# Statistical summary\n",
        "stats = df.describe()\n",
        "\n",
        "print(f\"\\nHead: \\n\",head)\n",
        "print(f\"\\nInfo: \\n\",info)\n",
        "print(f\"\\nStats: \\n\",stats)"
      ],
      "metadata": {
        "colab": {
          "base_uri": "https://localhost:8080/"
        },
        "id": "vFv_uxXNx7g9",
        "outputId": "3722ba77-ad89-455a-994c-62db564163ab"
      },
      "execution_count": null,
      "outputs": [
        {
          "output_type": "stream",
          "name": "stdout",
          "text": [
            "<class 'pandas.core.frame.DataFrame'>\n",
            "RangeIndex: 3 entries, 0 to 2\n",
            "Data columns (total 3 columns):\n",
            " #   Column  Non-Null Count  Dtype \n",
            "---  ------  --------------  ----- \n",
            " 0   Name    3 non-null      object\n",
            " 1   Age     3 non-null      int64 \n",
            " 2   City    3 non-null      object\n",
            "dtypes: int64(1), object(2)\n",
            "memory usage: 200.0+ bytes\n",
            "\n",
            "Head: \n",
            "       Name  Age         City\n",
            "0    Alice   30     New York\n",
            "1      Bob   25  Los Angeles\n",
            "2  Charlie   35      Chicago\n",
            "\n",
            "Info: \n",
            " None\n",
            "\n",
            "Stats: \n",
            "         Age\n",
            "count   3.0\n",
            "mean   30.0\n",
            "std     5.0\n",
            "min    25.0\n",
            "25%    27.5\n",
            "50%    30.0\n",
            "75%    32.5\n",
            "max    35.0\n"
          ]
        }
      ]
    },
    {
      "cell_type": "code",
      "source": [
        "# Data manipulation\n",
        "filtered = df[df['Age'] > 5]\n",
        "grouped = df.groupby('City')['Age'].mean()\n",
        "sorted_df = df.sort_values(by='Age')\n",
        "\n",
        "print(f\"\\nFiltered: \\n\",filtered)\n",
        "print(f\"\\nGrouped: \\n\",grouped)\n",
        "print(f\"\\nSorted: \\n\",sorted_df)"
      ],
      "metadata": {
        "colab": {
          "base_uri": "https://localhost:8080/"
        },
        "id": "yZNo4dEZyEsY",
        "outputId": "d6d681a5-a732-4a43-defe-7f30292c3047"
      },
      "execution_count": null,
      "outputs": [
        {
          "output_type": "stream",
          "name": "stdout",
          "text": [
            "\n",
            "Filtered: \n",
            "       Name  Age         City\n",
            "0    Alice   30     New York\n",
            "1      Bob   25  Los Angeles\n",
            "2  Charlie   35      Chicago\n",
            "\n",
            "Grouped: \n",
            " City\n",
            "Chicago        35.0\n",
            "Los Angeles    25.0\n",
            "New York       30.0\n",
            "Name: Age, dtype: float64\n",
            "\n",
            "Sorted: \n",
            "       Name  Age         City\n",
            "1      Bob   25  Los Angeles\n",
            "0    Alice   30     New York\n",
            "2  Charlie   35      Chicago\n"
          ]
        }
      ]
    },
    {
      "cell_type": "code",
      "source": [
        "# Handling missing data\n",
        "cleaned = df.dropna()\n",
        "filled = df.fillna(0)\n",
        "\n",
        "print(f\"\\nCleaned: \\n\",cleaned)\n",
        "print(f\"\\nFilled: \\n\",filled)"
      ],
      "metadata": {
        "colab": {
          "base_uri": "https://localhost:8080/"
        },
        "id": "Tr12c0Ayym7W",
        "outputId": "8b5a3e46-e6b8-4663-b64d-2cab80c63a43"
      },
      "execution_count": null,
      "outputs": [
        {
          "output_type": "stream",
          "name": "stdout",
          "text": [
            "\n",
            "Cleaned: \n",
            "       Name  Age         City\n",
            "0    Alice   30     New York\n",
            "1      Bob   25  Los Angeles\n",
            "2  Charlie   35      Chicago\n",
            "\n",
            "Filled: \n",
            "       Name  Age         City\n",
            "0    Alice   30     New York\n",
            "1      Bob   25  Los Angeles\n",
            "2  Charlie   35      Chicago\n"
          ]
        }
      ]
    },
    {
      "cell_type": "markdown",
      "source": [
        "### Descriptive Statistics"
      ],
      "metadata": {
        "id": "IP8ur2tl_nXp"
      }
    },
    {
      "cell_type": "code",
      "source": [
        "# Statistical operations\n",
        "mean = df.mean()\n",
        "median = df.median()\n",
        "correlation = df.corr()\n",
        "counts = df['City'].value_counts()\n",
        "\n",
        "print(f\"\\nMean: \\n\",mean)\n",
        "print(f\"\\nMedian: \\n\",median)\n",
        "print(f\"\\nCorrelation: \\n\",correlation)\n",
        "print(f\"\\nCounts: \\n\",counts)"
      ],
      "metadata": {
        "colab": {
          "base_uri": "https://localhost:8080/"
        },
        "collapsed": true,
        "id": "uRY-fsaO_eN_",
        "outputId": "63892ad3-ed7f-4662-e66b-75e01f3c9e91"
      },
      "execution_count": null,
      "outputs": [
        {
          "output_type": "error",
          "ename": "TypeError",
          "evalue": "Cannot convert [['Alice' 'Bob' 'Charlie']\n ['New York' 'Los Angeles' 'Chicago']] to numeric",
          "traceback": [
            "\u001b[0;31m---------------------------------------------------------------------------\u001b[0m",
            "\u001b[0;31mTypeError\u001b[0m                                 Traceback (most recent call last)",
            "\u001b[0;32m<ipython-input-47-dbe804c6799c>\u001b[0m in \u001b[0;36m<cell line: 3>\u001b[0;34m()\u001b[0m\n\u001b[1;32m      1\u001b[0m \u001b[0;31m# Statistical operations\u001b[0m\u001b[0;34m\u001b[0m\u001b[0;34m\u001b[0m\u001b[0m\n\u001b[1;32m      2\u001b[0m \u001b[0;31m#mean = df.mean()\u001b[0m\u001b[0;34m\u001b[0m\u001b[0;34m\u001b[0m\u001b[0m\n\u001b[0;32m----> 3\u001b[0;31m \u001b[0mmedian\u001b[0m \u001b[0;34m=\u001b[0m \u001b[0mdf\u001b[0m\u001b[0;34m.\u001b[0m\u001b[0mmedian\u001b[0m\u001b[0;34m(\u001b[0m\u001b[0;34m)\u001b[0m\u001b[0;34m\u001b[0m\u001b[0;34m\u001b[0m\u001b[0m\n\u001b[0m\u001b[1;32m      4\u001b[0m \u001b[0mcorrelation\u001b[0m \u001b[0;34m=\u001b[0m \u001b[0mdf\u001b[0m\u001b[0;34m.\u001b[0m\u001b[0mcorr\u001b[0m\u001b[0;34m(\u001b[0m\u001b[0;34m)\u001b[0m\u001b[0;34m\u001b[0m\u001b[0;34m\u001b[0m\u001b[0m\n\u001b[1;32m      5\u001b[0m \u001b[0mcounts\u001b[0m \u001b[0;34m=\u001b[0m \u001b[0mdf\u001b[0m\u001b[0;34m[\u001b[0m\u001b[0;34m'City'\u001b[0m\u001b[0;34m]\u001b[0m\u001b[0;34m.\u001b[0m\u001b[0mvalue_counts\u001b[0m\u001b[0;34m(\u001b[0m\u001b[0;34m)\u001b[0m\u001b[0;34m\u001b[0m\u001b[0;34m\u001b[0m\u001b[0m\n",
            "\u001b[0;32m/usr/local/lib/python3.10/dist-packages/pandas/core/frame.py\u001b[0m in \u001b[0;36mmedian\u001b[0;34m(self, axis, skipna, numeric_only, **kwargs)\u001b[0m\n\u001b[1;32m  11704\u001b[0m         \u001b[0;34m**\u001b[0m\u001b[0mkwargs\u001b[0m\u001b[0;34m,\u001b[0m\u001b[0;34m\u001b[0m\u001b[0;34m\u001b[0m\u001b[0m\n\u001b[1;32m  11705\u001b[0m     ):\n\u001b[0;32m> 11706\u001b[0;31m         \u001b[0mresult\u001b[0m \u001b[0;34m=\u001b[0m \u001b[0msuper\u001b[0m\u001b[0;34m(\u001b[0m\u001b[0;34m)\u001b[0m\u001b[0;34m.\u001b[0m\u001b[0mmedian\u001b[0m\u001b[0;34m(\u001b[0m\u001b[0maxis\u001b[0m\u001b[0;34m,\u001b[0m \u001b[0mskipna\u001b[0m\u001b[0;34m,\u001b[0m \u001b[0mnumeric_only\u001b[0m\u001b[0;34m,\u001b[0m \u001b[0;34m**\u001b[0m\u001b[0mkwargs\u001b[0m\u001b[0;34m)\u001b[0m\u001b[0;34m\u001b[0m\u001b[0;34m\u001b[0m\u001b[0m\n\u001b[0m\u001b[1;32m  11707\u001b[0m         \u001b[0;32mif\u001b[0m \u001b[0misinstance\u001b[0m\u001b[0;34m(\u001b[0m\u001b[0mresult\u001b[0m\u001b[0;34m,\u001b[0m \u001b[0mSeries\u001b[0m\u001b[0;34m)\u001b[0m\u001b[0;34m:\u001b[0m\u001b[0;34m\u001b[0m\u001b[0;34m\u001b[0m\u001b[0m\n\u001b[1;32m  11708\u001b[0m             \u001b[0mresult\u001b[0m \u001b[0;34m=\u001b[0m \u001b[0mresult\u001b[0m\u001b[0;34m.\u001b[0m\u001b[0m__finalize__\u001b[0m\u001b[0;34m(\u001b[0m\u001b[0mself\u001b[0m\u001b[0;34m,\u001b[0m \u001b[0mmethod\u001b[0m\u001b[0;34m=\u001b[0m\u001b[0;34m\"median\"\u001b[0m\u001b[0;34m)\u001b[0m\u001b[0;34m\u001b[0m\u001b[0;34m\u001b[0m\u001b[0m\n",
            "\u001b[0;32m/usr/local/lib/python3.10/dist-packages/pandas/core/generic.py\u001b[0m in \u001b[0;36mmedian\u001b[0;34m(self, axis, skipna, numeric_only, **kwargs)\u001b[0m\n\u001b[1;32m  12429\u001b[0m         \u001b[0;34m**\u001b[0m\u001b[0mkwargs\u001b[0m\u001b[0;34m,\u001b[0m\u001b[0;34m\u001b[0m\u001b[0;34m\u001b[0m\u001b[0m\n\u001b[1;32m  12430\u001b[0m     ) -> Series | float:\n\u001b[0;32m> 12431\u001b[0;31m         return self._stat_function(\n\u001b[0m\u001b[1;32m  12432\u001b[0m             \u001b[0;34m\"median\"\u001b[0m\u001b[0;34m,\u001b[0m \u001b[0mnanops\u001b[0m\u001b[0;34m.\u001b[0m\u001b[0mnanmedian\u001b[0m\u001b[0;34m,\u001b[0m \u001b[0maxis\u001b[0m\u001b[0;34m,\u001b[0m \u001b[0mskipna\u001b[0m\u001b[0;34m,\u001b[0m \u001b[0mnumeric_only\u001b[0m\u001b[0;34m,\u001b[0m \u001b[0;34m**\u001b[0m\u001b[0mkwargs\u001b[0m\u001b[0;34m\u001b[0m\u001b[0;34m\u001b[0m\u001b[0m\n\u001b[1;32m  12433\u001b[0m         )\n",
            "\u001b[0;32m/usr/local/lib/python3.10/dist-packages/pandas/core/generic.py\u001b[0m in \u001b[0;36m_stat_function\u001b[0;34m(self, name, func, axis, skipna, numeric_only, **kwargs)\u001b[0m\n\u001b[1;32m  12375\u001b[0m         \u001b[0mvalidate_bool_kwarg\u001b[0m\u001b[0;34m(\u001b[0m\u001b[0mskipna\u001b[0m\u001b[0;34m,\u001b[0m \u001b[0;34m\"skipna\"\u001b[0m\u001b[0;34m,\u001b[0m \u001b[0mnone_allowed\u001b[0m\u001b[0;34m=\u001b[0m\u001b[0;32mFalse\u001b[0m\u001b[0;34m)\u001b[0m\u001b[0;34m\u001b[0m\u001b[0;34m\u001b[0m\u001b[0m\n\u001b[1;32m  12376\u001b[0m \u001b[0;34m\u001b[0m\u001b[0m\n\u001b[0;32m> 12377\u001b[0;31m         return self._reduce(\n\u001b[0m\u001b[1;32m  12378\u001b[0m             \u001b[0mfunc\u001b[0m\u001b[0;34m,\u001b[0m \u001b[0mname\u001b[0m\u001b[0;34m=\u001b[0m\u001b[0mname\u001b[0m\u001b[0;34m,\u001b[0m \u001b[0maxis\u001b[0m\u001b[0;34m=\u001b[0m\u001b[0maxis\u001b[0m\u001b[0;34m,\u001b[0m \u001b[0mskipna\u001b[0m\u001b[0;34m=\u001b[0m\u001b[0mskipna\u001b[0m\u001b[0;34m,\u001b[0m \u001b[0mnumeric_only\u001b[0m\u001b[0;34m=\u001b[0m\u001b[0mnumeric_only\u001b[0m\u001b[0;34m\u001b[0m\u001b[0;34m\u001b[0m\u001b[0m\n\u001b[1;32m  12379\u001b[0m         )\n",
            "\u001b[0;32m/usr/local/lib/python3.10/dist-packages/pandas/core/frame.py\u001b[0m in \u001b[0;36m_reduce\u001b[0;34m(self, op, name, axis, skipna, numeric_only, filter_type, **kwds)\u001b[0m\n\u001b[1;32m  11560\u001b[0m         \u001b[0;31m# After possibly _get_data and transposing, we are now in the\u001b[0m\u001b[0;34m\u001b[0m\u001b[0;34m\u001b[0m\u001b[0m\n\u001b[1;32m  11561\u001b[0m         \u001b[0;31m#  simple case where we can use BlockManager.reduce\u001b[0m\u001b[0;34m\u001b[0m\u001b[0;34m\u001b[0m\u001b[0m\n\u001b[0;32m> 11562\u001b[0;31m         \u001b[0mres\u001b[0m \u001b[0;34m=\u001b[0m \u001b[0mdf\u001b[0m\u001b[0;34m.\u001b[0m\u001b[0m_mgr\u001b[0m\u001b[0;34m.\u001b[0m\u001b[0mreduce\u001b[0m\u001b[0;34m(\u001b[0m\u001b[0mblk_func\u001b[0m\u001b[0;34m)\u001b[0m\u001b[0;34m\u001b[0m\u001b[0;34m\u001b[0m\u001b[0m\n\u001b[0m\u001b[1;32m  11563\u001b[0m         \u001b[0mout\u001b[0m \u001b[0;34m=\u001b[0m \u001b[0mdf\u001b[0m\u001b[0;34m.\u001b[0m\u001b[0m_constructor_from_mgr\u001b[0m\u001b[0;34m(\u001b[0m\u001b[0mres\u001b[0m\u001b[0;34m,\u001b[0m \u001b[0maxes\u001b[0m\u001b[0;34m=\u001b[0m\u001b[0mres\u001b[0m\u001b[0;34m.\u001b[0m\u001b[0maxes\u001b[0m\u001b[0;34m)\u001b[0m\u001b[0;34m.\u001b[0m\u001b[0miloc\u001b[0m\u001b[0;34m[\u001b[0m\u001b[0;36m0\u001b[0m\u001b[0;34m]\u001b[0m\u001b[0;34m\u001b[0m\u001b[0;34m\u001b[0m\u001b[0m\n\u001b[1;32m  11564\u001b[0m         \u001b[0;32mif\u001b[0m \u001b[0mout_dtype\u001b[0m \u001b[0;32mis\u001b[0m \u001b[0;32mnot\u001b[0m \u001b[0;32mNone\u001b[0m \u001b[0;32mand\u001b[0m \u001b[0mout\u001b[0m\u001b[0;34m.\u001b[0m\u001b[0mdtype\u001b[0m \u001b[0;34m!=\u001b[0m \u001b[0;34m\"boolean\"\u001b[0m\u001b[0;34m:\u001b[0m\u001b[0;34m\u001b[0m\u001b[0;34m\u001b[0m\u001b[0m\n",
            "\u001b[0;32m/usr/local/lib/python3.10/dist-packages/pandas/core/internals/managers.py\u001b[0m in \u001b[0;36mreduce\u001b[0;34m(self, func)\u001b[0m\n\u001b[1;32m   1498\u001b[0m         \u001b[0mres_blocks\u001b[0m\u001b[0;34m:\u001b[0m \u001b[0mlist\u001b[0m\u001b[0;34m[\u001b[0m\u001b[0mBlock\u001b[0m\u001b[0;34m]\u001b[0m \u001b[0;34m=\u001b[0m \u001b[0;34m[\u001b[0m\u001b[0;34m]\u001b[0m\u001b[0;34m\u001b[0m\u001b[0;34m\u001b[0m\u001b[0m\n\u001b[1;32m   1499\u001b[0m         \u001b[0;32mfor\u001b[0m \u001b[0mblk\u001b[0m \u001b[0;32min\u001b[0m \u001b[0mself\u001b[0m\u001b[0;34m.\u001b[0m\u001b[0mblocks\u001b[0m\u001b[0;34m:\u001b[0m\u001b[0;34m\u001b[0m\u001b[0;34m\u001b[0m\u001b[0m\n\u001b[0;32m-> 1500\u001b[0;31m             \u001b[0mnbs\u001b[0m \u001b[0;34m=\u001b[0m \u001b[0mblk\u001b[0m\u001b[0;34m.\u001b[0m\u001b[0mreduce\u001b[0m\u001b[0;34m(\u001b[0m\u001b[0mfunc\u001b[0m\u001b[0;34m)\u001b[0m\u001b[0;34m\u001b[0m\u001b[0;34m\u001b[0m\u001b[0m\n\u001b[0m\u001b[1;32m   1501\u001b[0m             \u001b[0mres_blocks\u001b[0m\u001b[0;34m.\u001b[0m\u001b[0mextend\u001b[0m\u001b[0;34m(\u001b[0m\u001b[0mnbs\u001b[0m\u001b[0;34m)\u001b[0m\u001b[0;34m\u001b[0m\u001b[0;34m\u001b[0m\u001b[0m\n\u001b[1;32m   1502\u001b[0m \u001b[0;34m\u001b[0m\u001b[0m\n",
            "\u001b[0;32m/usr/local/lib/python3.10/dist-packages/pandas/core/internals/blocks.py\u001b[0m in \u001b[0;36mreduce\u001b[0;34m(self, func)\u001b[0m\n\u001b[1;32m    402\u001b[0m         \u001b[0;32massert\u001b[0m \u001b[0mself\u001b[0m\u001b[0;34m.\u001b[0m\u001b[0mndim\u001b[0m \u001b[0;34m==\u001b[0m \u001b[0;36m2\u001b[0m\u001b[0;34m\u001b[0m\u001b[0;34m\u001b[0m\u001b[0m\n\u001b[1;32m    403\u001b[0m \u001b[0;34m\u001b[0m\u001b[0m\n\u001b[0;32m--> 404\u001b[0;31m         \u001b[0mresult\u001b[0m \u001b[0;34m=\u001b[0m \u001b[0mfunc\u001b[0m\u001b[0;34m(\u001b[0m\u001b[0mself\u001b[0m\u001b[0;34m.\u001b[0m\u001b[0mvalues\u001b[0m\u001b[0;34m)\u001b[0m\u001b[0;34m\u001b[0m\u001b[0;34m\u001b[0m\u001b[0m\n\u001b[0m\u001b[1;32m    405\u001b[0m \u001b[0;34m\u001b[0m\u001b[0m\n\u001b[1;32m    406\u001b[0m         \u001b[0;32mif\u001b[0m \u001b[0mself\u001b[0m\u001b[0;34m.\u001b[0m\u001b[0mvalues\u001b[0m\u001b[0;34m.\u001b[0m\u001b[0mndim\u001b[0m \u001b[0;34m==\u001b[0m \u001b[0;36m1\u001b[0m\u001b[0;34m:\u001b[0m\u001b[0;34m\u001b[0m\u001b[0;34m\u001b[0m\u001b[0m\n",
            "\u001b[0;32m/usr/local/lib/python3.10/dist-packages/pandas/core/frame.py\u001b[0m in \u001b[0;36mblk_func\u001b[0;34m(values, axis)\u001b[0m\n\u001b[1;32m  11479\u001b[0m                     \u001b[0;32mreturn\u001b[0m \u001b[0mnp\u001b[0m\u001b[0;34m.\u001b[0m\u001b[0marray\u001b[0m\u001b[0;34m(\u001b[0m\u001b[0;34m[\u001b[0m\u001b[0mresult\u001b[0m\u001b[0;34m]\u001b[0m\u001b[0;34m)\u001b[0m\u001b[0;34m\u001b[0m\u001b[0;34m\u001b[0m\u001b[0m\n\u001b[1;32m  11480\u001b[0m             \u001b[0;32melse\u001b[0m\u001b[0;34m:\u001b[0m\u001b[0;34m\u001b[0m\u001b[0;34m\u001b[0m\u001b[0m\n\u001b[0;32m> 11481\u001b[0;31m                 \u001b[0;32mreturn\u001b[0m \u001b[0mop\u001b[0m\u001b[0;34m(\u001b[0m\u001b[0mvalues\u001b[0m\u001b[0;34m,\u001b[0m \u001b[0maxis\u001b[0m\u001b[0;34m=\u001b[0m\u001b[0maxis\u001b[0m\u001b[0;34m,\u001b[0m \u001b[0mskipna\u001b[0m\u001b[0;34m=\u001b[0m\u001b[0mskipna\u001b[0m\u001b[0;34m,\u001b[0m \u001b[0;34m**\u001b[0m\u001b[0mkwds\u001b[0m\u001b[0;34m)\u001b[0m\u001b[0;34m\u001b[0m\u001b[0;34m\u001b[0m\u001b[0m\n\u001b[0m\u001b[1;32m  11482\u001b[0m \u001b[0;34m\u001b[0m\u001b[0m\n\u001b[1;32m  11483\u001b[0m         \u001b[0;32mdef\u001b[0m \u001b[0m_get_data\u001b[0m\u001b[0;34m(\u001b[0m\u001b[0;34m)\u001b[0m \u001b[0;34m->\u001b[0m \u001b[0mDataFrame\u001b[0m\u001b[0;34m:\u001b[0m\u001b[0;34m\u001b[0m\u001b[0;34m\u001b[0m\u001b[0m\n",
            "\u001b[0;32m/usr/local/lib/python3.10/dist-packages/pandas/core/nanops.py\u001b[0m in \u001b[0;36mf\u001b[0;34m(values, axis, skipna, **kwds)\u001b[0m\n\u001b[1;32m    145\u001b[0m                     \u001b[0mresult\u001b[0m \u001b[0;34m=\u001b[0m \u001b[0malt\u001b[0m\u001b[0;34m(\u001b[0m\u001b[0mvalues\u001b[0m\u001b[0;34m,\u001b[0m \u001b[0maxis\u001b[0m\u001b[0;34m=\u001b[0m\u001b[0maxis\u001b[0m\u001b[0;34m,\u001b[0m \u001b[0mskipna\u001b[0m\u001b[0;34m=\u001b[0m\u001b[0mskipna\u001b[0m\u001b[0;34m,\u001b[0m \u001b[0;34m**\u001b[0m\u001b[0mkwds\u001b[0m\u001b[0;34m)\u001b[0m\u001b[0;34m\u001b[0m\u001b[0;34m\u001b[0m\u001b[0m\n\u001b[1;32m    146\u001b[0m             \u001b[0;32melse\u001b[0m\u001b[0;34m:\u001b[0m\u001b[0;34m\u001b[0m\u001b[0;34m\u001b[0m\u001b[0m\n\u001b[0;32m--> 147\u001b[0;31m                 \u001b[0mresult\u001b[0m \u001b[0;34m=\u001b[0m \u001b[0malt\u001b[0m\u001b[0;34m(\u001b[0m\u001b[0mvalues\u001b[0m\u001b[0;34m,\u001b[0m \u001b[0maxis\u001b[0m\u001b[0;34m=\u001b[0m\u001b[0maxis\u001b[0m\u001b[0;34m,\u001b[0m \u001b[0mskipna\u001b[0m\u001b[0;34m=\u001b[0m\u001b[0mskipna\u001b[0m\u001b[0;34m,\u001b[0m \u001b[0;34m**\u001b[0m\u001b[0mkwds\u001b[0m\u001b[0;34m)\u001b[0m\u001b[0;34m\u001b[0m\u001b[0;34m\u001b[0m\u001b[0m\n\u001b[0m\u001b[1;32m    148\u001b[0m \u001b[0;34m\u001b[0m\u001b[0m\n\u001b[1;32m    149\u001b[0m             \u001b[0;32mreturn\u001b[0m \u001b[0mresult\u001b[0m\u001b[0;34m\u001b[0m\u001b[0;34m\u001b[0m\u001b[0m\n",
            "\u001b[0;32m/usr/local/lib/python3.10/dist-packages/pandas/core/nanops.py\u001b[0m in \u001b[0;36mnanmedian\u001b[0;34m(values, axis, skipna, mask)\u001b[0m\n\u001b[1;32m    785\u001b[0m             \u001b[0minferred\u001b[0m \u001b[0;34m=\u001b[0m \u001b[0mlib\u001b[0m\u001b[0;34m.\u001b[0m\u001b[0minfer_dtype\u001b[0m\u001b[0;34m(\u001b[0m\u001b[0mvalues\u001b[0m\u001b[0;34m)\u001b[0m\u001b[0;34m\u001b[0m\u001b[0;34m\u001b[0m\u001b[0m\n\u001b[1;32m    786\u001b[0m             \u001b[0;32mif\u001b[0m \u001b[0minferred\u001b[0m \u001b[0;32min\u001b[0m \u001b[0;34m[\u001b[0m\u001b[0;34m\"string\"\u001b[0m\u001b[0;34m,\u001b[0m \u001b[0;34m\"mixed\"\u001b[0m\u001b[0;34m]\u001b[0m\u001b[0;34m:\u001b[0m\u001b[0;34m\u001b[0m\u001b[0;34m\u001b[0m\u001b[0m\n\u001b[0;32m--> 787\u001b[0;31m                 \u001b[0;32mraise\u001b[0m \u001b[0mTypeError\u001b[0m\u001b[0;34m(\u001b[0m\u001b[0;34mf\"Cannot convert {values} to numeric\"\u001b[0m\u001b[0;34m)\u001b[0m\u001b[0;34m\u001b[0m\u001b[0;34m\u001b[0m\u001b[0m\n\u001b[0m\u001b[1;32m    788\u001b[0m         \u001b[0;32mtry\u001b[0m\u001b[0;34m:\u001b[0m\u001b[0;34m\u001b[0m\u001b[0;34m\u001b[0m\u001b[0m\n\u001b[1;32m    789\u001b[0m             \u001b[0mvalues\u001b[0m \u001b[0;34m=\u001b[0m \u001b[0mvalues\u001b[0m\u001b[0;34m.\u001b[0m\u001b[0mastype\u001b[0m\u001b[0;34m(\u001b[0m\u001b[0;34m\"f8\"\u001b[0m\u001b[0;34m)\u001b[0m\u001b[0;34m\u001b[0m\u001b[0;34m\u001b[0m\u001b[0m\n",
            "\u001b[0;31mTypeError\u001b[0m: Cannot convert [['Alice' 'Bob' 'Charlie']\n ['New York' 'Los Angeles' 'Chicago']] to numeric"
          ]
        }
      ]
    },
    {
      "cell_type": "markdown",
      "source": [
        "### Data Structures"
      ],
      "metadata": {
        "id": "3bgIV_hE_t2d"
      }
    },
    {
      "cell_type": "markdown",
      "source": [
        "#### 1. Pandas Series\n",
        "\n",
        "A Series is a one-dimensional array-like object containing a sequence of values (of similar types to NumPy types) and an associated array of data labels, called its index."
      ],
      "metadata": {
        "id": "9vD8Vxi3_yBy"
      }
    },
    {
      "cell_type": "code",
      "source": [
        "# Creating a Series\n",
        "s = pd.Series([1, 2, 3, 4, 5])\n",
        "s_with_index = pd.Series([1, 2, 3, 4, 5], index=['o', 's', 'c', 'a', 'r'])\n",
        "\n",
        "print(f\"Series: \\n\",s)\n",
        "print(f\"Series with Index: \\n\",s_with_index)"
      ],
      "metadata": {
        "colab": {
          "base_uri": "https://localhost:8080/"
        },
        "id": "5LGZ7kvp_2HO",
        "outputId": "a8fbcb4c-a4ec-4689-b531-f50d6fbc3bdf"
      },
      "execution_count": null,
      "outputs": [
        {
          "output_type": "stream",
          "name": "stdout",
          "text": [
            "Series: \n",
            " 0    1\n",
            "1    2\n",
            "2    3\n",
            "3    4\n",
            "4    5\n",
            "dtype: int64\n",
            "Series with Index: \n",
            " o    1\n",
            "s    2\n",
            "c    3\n",
            "a    4\n",
            "r    5\n",
            "dtype: int64\n"
          ]
        }
      ]
    },
    {
      "cell_type": "code",
      "source": [
        "# Operations\n",
        "doubled = s * 2\n",
        "filtered = s[s > 2]\n",
        "\n",
        "print(f\"\\nDoubled: \\n\",doubled)\n",
        "print(f\"\\nFiltered: \\n\",filtered)"
      ],
      "metadata": {
        "colab": {
          "base_uri": "https://localhost:8080/"
        },
        "id": "tNGfGrFpzhBk",
        "outputId": "08318d71-a831-44a2-9565-22fd81e59766"
      },
      "execution_count": null,
      "outputs": [
        {
          "output_type": "stream",
          "name": "stdout",
          "text": [
            "\n",
            "Doubled: \n",
            " 0     2\n",
            "1     4\n",
            "2     6\n",
            "3     8\n",
            "4    10\n",
            "dtype: int64\n",
            "\n",
            "Filtered: \n",
            " 2    3\n",
            "3    4\n",
            "4    5\n",
            "dtype: int64\n"
          ]
        }
      ]
    },
    {
      "cell_type": "markdown",
      "source": [
        "#### 2. Pandas DataFrame\n",
        "\n",
        "A DataFrame represents a rectangular table of data and contains an ordered collec‐ tion of columns, each of which can be a different value type (numeric, string, boolean, etc.)."
      ],
      "metadata": {
        "id": "FtlxhD6S_4i0"
      }
    },
    {
      "cell_type": "code",
      "source": [
        "# Creating a DataFrame\n",
        "df = pd.DataFrame({\n",
        "    'A': [1, 2, 3],\n",
        "    'B': ['a', 'b', 'c'],\n",
        "    'C': [1.1, 2.2, 3.3]\n",
        "})\n",
        "\n",
        "print(f\"DataFrame: \\n\",df)"
      ],
      "metadata": {
        "colab": {
          "base_uri": "https://localhost:8080/"
        },
        "id": "og-lfmP9_8mH",
        "outputId": "3cc3305c-eb1d-44be-a904-222784c60803"
      },
      "execution_count": null,
      "outputs": [
        {
          "output_type": "stream",
          "name": "stdout",
          "text": [
            "DataFrame: \n",
            "    A  B    C\n",
            "0  1  a  1.1\n",
            "1  2  b  2.2\n",
            "2  3  c  3.3\n"
          ]
        }
      ]
    },
    {
      "cell_type": "code",
      "source": [
        "# Column operations\n",
        "df['D'] = df['A'] + df['C']\n",
        "df = df.drop('B', axis=1)\n",
        "\n",
        "print(f\"\\nDataFrame after column operations: \\n\",df)"
      ],
      "metadata": {
        "colab": {
          "base_uri": "https://localhost:8080/"
        },
        "id": "yQfWZDlg0g5s",
        "outputId": "4a8b8955-dd03-4264-d6d5-435755675ff6"
      },
      "execution_count": null,
      "outputs": [
        {
          "output_type": "stream",
          "name": "stdout",
          "text": [
            "\n",
            "DataFrame after column operations: \n",
            "    A    C    D\n",
            "0  1  1.1  2.1\n",
            "1  2  2.2  4.2\n",
            "2  3  3.3  6.3\n"
          ]
        }
      ]
    },
    {
      "cell_type": "code",
      "source": [
        "# Replace with pd.concat\n",
        "df = pd.concat([df, pd.DataFrame([{'A': 4, 'C': 4.4}])], ignore_index=True)\n",
        "\n",
        "print(f\"\\nDataFrame after concatenation: \\n\",df)"
      ],
      "metadata": {
        "colab": {
          "base_uri": "https://localhost:8080/"
        },
        "id": "nx5x6GT00Z1L",
        "outputId": "d9b151c9-885f-4aec-ce7a-d9f907105dff"
      },
      "execution_count": null,
      "outputs": [
        {
          "output_type": "stream",
          "name": "stdout",
          "text": [
            "\n",
            "DataFrame after concatenation: \n",
            "    A    C    D\n",
            "0  2  2.2  4.2\n",
            "1  3  3.3  6.3\n",
            "2  4  4.4  NaN\n"
          ]
        }
      ]
    },
    {
      "cell_type": "code",
      "source": [
        "# Creating a larger DataFrame with more data\n",
        "df = pd.DataFrame({\n",
        "    'A': [1, 2, 3, 4, 5, 6],\n",
        "    'B': ['a', 'b', 'c', 'd', 'e', 'f'],\n",
        "    'C': [1.1, 2.2, 3.3, 4.4, 5.5, 6.6],\n",
        "    'D': [True, False, True, False, True, False],\n",
        "    'E': ['apple', 'banana', 'cherry', 'date', 'elderberry', 'fig']\n",
        "})\n",
        "\n",
        "print(f\"\\nLarger DataFrame: \\n\",df)"
      ],
      "metadata": {
        "colab": {
          "base_uri": "https://localhost:8080/"
        },
        "id": "vJSzih7A1N_8",
        "outputId": "a08c523b-83fc-472b-86bc-8f042162430a"
      },
      "execution_count": null,
      "outputs": [
        {
          "output_type": "stream",
          "name": "stdout",
          "text": [
            "\n",
            "Larger DataFrame: \n",
            "    A  B    C      D           E\n",
            "0  1  a  1.1   True       apple\n",
            "1  2  b  2.2  False      banana\n",
            "2  3  c  3.3   True      cherry\n",
            "3  4  d  4.4  False        date\n",
            "4  5  e  5.5   True  elderberry\n",
            "5  6  f  6.6  False         fig\n"
          ]
        }
      ]
    },
    {
      "cell_type": "code",
      "source": [
        "# Select rows where A > 3 and get columns B and E\n",
        "result_loc = df.loc[df['A'] > 3, ['B', 'E']]\n",
        "\n",
        "print(\"\\nUsing loc to select 'B' and 'E' where 'A' > 3:\")\n",
        "print(result_loc)"
      ],
      "metadata": {
        "colab": {
          "base_uri": "https://localhost:8080/"
        },
        "id": "Y9SdujHL11kx",
        "outputId": "69fb8c6e-d36b-47f2-db58-a8eb760496f7"
      },
      "execution_count": null,
      "outputs": [
        {
          "output_type": "stream",
          "name": "stdout",
          "text": [
            "\n",
            "Using loc to select 'B' and 'E' where 'A' > 3:\n",
            "   B           E\n",
            "3  d        date\n",
            "4  e  elderberry\n",
            "5  f         fig\n"
          ]
        }
      ]
    },
    {
      "cell_type": "code",
      "source": [
        "# Select the first four rows and the first three columns\n",
        "result_iloc = df.iloc[0:4, 0:3]\n",
        "\n",
        "print(\"\\nUsing iloc to select the first four rows and first three columns:\")\n",
        "print(result_iloc)"
      ],
      "metadata": {
        "colab": {
          "base_uri": "https://localhost:8080/"
        },
        "id": "xQV6TKTQ146l",
        "outputId": "eabb4768-65d0-49bb-b192-ccb0d12cbaa4"
      },
      "execution_count": null,
      "outputs": [
        {
          "output_type": "stream",
          "name": "stdout",
          "text": [
            "\n",
            "Using iloc to select the first four rows and first three columns:\n",
            "   A  B    C\n",
            "0  1  a  1.1\n",
            "1  2  b  2.2\n",
            "2  3  c  3.3\n",
            "3  4  d  4.4\n"
          ]
        }
      ]
    },
    {
      "cell_type": "markdown",
      "source": [
        "loc allows you to select data based on labels, making it easy to filter data based on specific conditions.\n",
        "\n",
        "iloc allows you to select data based on integer positions, which is useful when you want to access specific rows and columns by their index."
      ],
      "metadata": {
        "id": "ZrxLQdeA1ojx"
      }
    },
    {
      "cell_type": "markdown",
      "source": [
        "#### Reading and Writing Data"
      ],
      "metadata": {
        "id": "4cDmq_G_AAP-"
      }
    },
    {
      "cell_type": "code",
      "source": [
        "# Reading various formats\n",
        "csv_data = pd.read_csv('file.csv')\n",
        "excel_data = pd.read_excel('file.xlsx')\n",
        "json_data = pd.read_json('file.json')\n",
        "sql_data = pd.read_sql('SELECT * FROM table', connection)\n",
        "\n",
        "# Writing data\n",
        "df.to_csv('output.csv')\n",
        "df.to_excel('output.xlsx')\n",
        "df.to_json('output.json')"
      ],
      "metadata": {
        "id": "LQCSJfX3AEHW"
      },
      "execution_count": null,
      "outputs": []
    },
    {
      "cell_type": "markdown",
      "source": [
        "## 3. Matplotlib and Seaborn: Data Visualization\n",
        "\n",
        "Matplotlib: The Visualization workhorse\n",
        "\n",
        "> Add blockquote\n",
        "\n"
      ],
      "metadata": {
        "id": "MdlqKXDGAI2C"
      }
    },
    {
      "cell_type": "code",
      "source": [
        "import matplotlib.pyplot as plt\n",
        "\n",
        "x = np.linspace(0, 10, 100)\n",
        "y = np.sin(x)\n",
        "\n",
        "# Basic plotting\n",
        "plt.plot(x, y)\n",
        "# plt.scatter(x, y)\n",
        "# plt.hist(data)\n",
        "# plt.bar(x, y)\n",
        "# plt.boxplot(data)\n",
        "\n",
        "# Customization\n",
        "plt.title('My Plot')\n",
        "plt.xlabel('X-axis')\n",
        "plt.ylabel('Y-axis')\n",
        "plt.grid(True)"
      ],
      "metadata": {
        "colab": {
          "base_uri": "https://localhost:8080/",
          "height": 472
        },
        "id": "7sdguoeSAozi",
        "outputId": "02ff9287-e21a-4318-a4af-676589108bd8"
      },
      "execution_count": null,
      "outputs": [
        {
          "output_type": "display_data",
          "data": {
            "text/plain": [
              "<Figure size 640x480 with 1 Axes>"
            ],
            "image/png": "[encoded data removed]"
          },
          "metadata": {}
        }
      ]
    },
    {
      "cell_type": "markdown",
      "source": [
        "## 4. Seaborn: Statistical Visualization"
      ],
      "metadata": {
        "id": "8cS0z7xjAqf3"
      }
    },
    {
      "cell_type": "code",
      "source": [
        "import seaborn as sns\n",
        "\n",
        "# Statistical plots\n",
        "sns.distplot(data)\n",
        "sns.boxplot(x='category', y='value', data=df)\n",
        "sns.heatmap(correlation_matrix)\n",
        "sns.pairplot(df)"
      ],
      "metadata": {
        "id": "h4gXp-BcBOc_"
      },
      "execution_count": null,
      "outputs": []
    },
    {
      "cell_type": "markdown",
      "source": [
        "## 5. Scikit-learn: Machine *Learning*"
      ],
      "metadata": {
        "id": "tMxvTtXpBP-a"
      }
    },
    {
      "cell_type": "markdown",
      "source": [
        "### Common Operations"
      ],
      "metadata": {
        "id": "ym6MOSuMBXdk"
      }
    },
    {
      "cell_type": "code",
      "source": [
        "from sklearn.model_selection import train_test_split\n",
        "from sklearn.preprocessing import StandardScaler\n",
        "from sklearn.linear_model import LogisticRegression\n",
        "from sklearn.metrics import accuracy_score\n",
        "\n",
        "# Data preprocessing\n",
        "X_train, X_test, y_train, y_test = train_test_split(X, y)\n",
        "scaler = StandardScaler()\n",
        "X_train_scaled = scaler.fit_transform(X_train)\n",
        "\n",
        "# Model training\n",
        "model = LogisticRegression()\n",
        "model.fit(X_train_scaled, y_train)\n",
        "\n",
        "# Prediction and evaluation\n",
        "predictions = model.predict(X_test)\n",
        "accuracy = accuracy_score(y_test, predictions)"
      ],
      "metadata": {
        "id": "98oU8qrzBalB"
      },
      "execution_count": null,
      "outputs": []
    },
    {
      "cell_type": "markdown",
      "source": [
        "### Key Scikit-learn Modules\n",
        "\n",
        "1.   preprocessing: Data scaling and feature engineering\n",
        "2.   model_selection: Cross-validation and hyperparameter tuning\n",
        "3.   metrics: Model evaluation\n",
        "4.   pipeline: Building machine learning pipelines\n",
        "\n"
      ],
      "metadata": {
        "id": "BePcb2xmBdnP"
      }
    },
    {
      "cell_type": "markdown",
      "source": [
        "## Data Formats in Data Science"
      ],
      "metadata": {
        "id": "A2BXXtCLL0nQ"
      }
    },
    {
      "cell_type": "markdown",
      "source": [
        "### 1. CSV(Comma-Separated Values)\n",
        "\n",
        "Overview\n",
        "\n",
        "CSV is one of the most common and simplest formats for storing tabular data. Each line represents a row, and columns are separated by commas (or other delimiters).\n",
        "\n",
        "```\n",
        "name,age,city,date_of_birth,score\n",
        "Alice,30,New York,1993-05-01,85.5\n",
        "Bob,22,Los Angeles,2000-06-15,NA\n",
        "Charlie,25,Chicago,1998-09-20,92.0\n",
        "David,24,Miami,1999-04-10,missing\n",
        "Eva,22,Houston,2001-02-28,78.0\n",
        "```\n",
        "\n"
      ],
      "metadata": {
        "id": "vm7TEqcuClq3"
      }
    },
    {
      "cell_type": "markdown",
      "source": [
        "#### Advantages\n",
        "\n",
        "* Simple and human-readable\n",
        "* Universal support\n",
        "* Compact size\n",
        "* Easy to create and edit\n",
        "* Supported by all spreadsheet programs\n",
        "\n",
        "#### Disadvantages\n",
        "\n",
        "* Potential issues with commas in text fields\n",
        "* No native support for missing values"
      ],
      "metadata": {
        "id": "lYYlgNlHC7YQ"
      }
    },
    {
      "cell_type": "markdown",
      "source": [
        "##### Working with CSVs in *Python*"
      ],
      "metadata": {
        "id": "PstUGMFoDWQt"
      }
    },
    {
      "cell_type": "code",
      "source": [
        "import pandas as pd\n",
        "\n",
        "# Sample data for the CSV file\n",
        "data = {\n",
        "    'name': ['Alice', 'Bob', 'Charlie', 'David', 'Eva'],\n",
        "    'age': [30, 22, 25, 24, 22],\n",
        "    'city': ['New York', 'Los Angeles', 'Chicago', 'Miami', 'Houston'],\n",
        "    'date_of_birth': ['1993-05-01', '2000-06-15', '1998-09-20', '1999-04-10', '2001-02-28'],\n",
        "    'score': [85.5, 'NA', 92.0, 'missing', 78.0]\n",
        "}\n",
        "\n",
        "# Create a DataFrame\n",
        "df = pd.DataFrame(data)\n",
        "\n",
        "# Write the DataFrame to a CSV file\n",
        "df.to_csv('data.csv', index=False)\n",
        "\n",
        "print(\"data.csv file created.\")"
      ],
      "metadata": {
        "colab": {
          "base_uri": "https://localhost:8080/"
        },
        "id": "-C1uCL0W4KJb",
        "outputId": "3a0cbd9b-e37b-4e73-835a-60b76de48d45"
      },
      "execution_count": null,
      "outputs": [
        {
          "output_type": "stream",
          "name": "stdout",
          "text": [
            "data.csv file created.\n"
          ]
        }
      ]
    },
    {
      "cell_type": "code",
      "source": [
        "import pandas as pd\n",
        "\n",
        "# Reading CSV\n",
        "df = pd.read_csv('data.csv')\n",
        "\n",
        "# Writing CSV\n",
        "df.to_csv('output.csv', index=False)\n",
        "\n",
        "# Reading with specific options\n",
        "df = pd.read_csv('data.csv',\n",
        "                 delimiter=',',  # For different separators\n",
        "                 na_values=['NA', 'missing'],  # Custom NA values\n",
        "                 dtype={'age': int},  # Specify data types\n",
        "                 parse_dates=['date_of_birth'])  # Parse 'date_of_birth' column instead of 'date_column'\n",
        "\n",
        "df.head()"
      ],
      "metadata": {
        "colab": {
          "base_uri": "https://localhost:8080/",
          "height": 206
        },
        "id": "8djWFqhzDVhv",
        "outputId": "b44e6c7d-a824-4f8f-c43a-f928b1a462ae"
      },
      "execution_count": null,
      "outputs": [
        {
          "output_type": "execute_result",
          "data": {
            "text/plain": [
              "      name  age         city date_of_birth  score\n",
              "0    Alice   30     New York    1993-05-01   85.5\n",
              "1      Bob   22  Los Angeles    2000-06-15    NaN\n",
              "2  Charlie   25      Chicago    1998-09-20   92.0\n",
              "3    David   24        Miami    1999-04-10    NaN\n",
              "4      Eva   22      Houston    2001-02-28   78.0"
            ],
            "text/html": [
              "\n",
              "  <div id=\"df-8da164aa-a242-4a42-a446-b36fb680c1ca\" class=\"colab-df-container\">\n",
              "    <div>\n",
              "<style scoped>\n",
              "    .dataframe tbody tr th:only-of-type {\n",
              "        vertical-align: middle;\n",
              "    }\n",
              "\n",
              "    .dataframe tbody tr th {\n",
              "        vertical-align: top;\n",
              "    }\n",
              "\n",
              "    .dataframe thead th {\n",
              "        text-align: right;\n",
              "    }\n",
              "</style>\n",
              "<table border=\"1\" class=\"dataframe\">\n",
              "  <thead>\n",
              "    <tr style=\"text-align: right;\">\n",
              "      <th></th>\n",
              "      <th>name</th>\n",
              "      <th>age</th>\n",
              "      <th>city</th>\n",
              "      <th>date_of_birth</th>\n",
              "      <th>score</th>\n",
              "    </tr>\n",
              "  </thead>\n",
              "  <tbody>\n",
              "    <tr>\n",
              "      <th>0</th>\n",
              "      <td>Alice</td>\n",
              "      <td>30</td>\n",
              "      <td>New York</td>\n",
              "      <td>1993-05-01</td>\n",
              "      <td>85.5</td>\n",
              "    </tr>\n",
              "    <tr>\n",
              "      <th>1</th>\n",
              "      <td>Bob</td>\n",
              "      <td>22</td>\n",
              "      <td>Los Angeles</td>\n",
              "      <td>2000-06-15</td>\n",
              "      <td>NaN</td>\n",
              "    </tr>\n",
              "    <tr>\n",
              "      <th>2</th>\n",
              "      <td>Charlie</td>\n",
              "      <td>25</td>\n",
              "      <td>Chicago</td>\n",
              "      <td>1998-09-20</td>\n",
              "      <td>92.0</td>\n",
              "    </tr>\n",
              "    <tr>\n",
              "      <th>3</th>\n",
              "      <td>David</td>\n",
              "      <td>24</td>\n",
              "      <td>Miami</td>\n",
              "      <td>1999-04-10</td>\n",
              "      <td>NaN</td>\n",
              "    </tr>\n",
              "    <tr>\n",
              "      <th>4</th>\n",
              "      <td>Eva</td>\n",
              "      <td>22</td>\n",
              "      <td>Houston</td>\n",
              "      <td>2001-02-28</td>\n",
              "      <td>78.0</td>\n",
              "    </tr>\n",
              "  </tbody>\n",
              "</table>\n",
              "</div>\n",
              "    <div class=\"colab-df-buttons\">\n",
              "\n",
              "  <div class=\"colab-df-container\">\n",
              "    <button class=\"colab-df-convert\" onclick=\"convertToInteractive('df-8da164aa-a242-4a42-a446-b36fb680c1ca')\"\n",
              "            title=\"Convert this dataframe to an interactive table.\"\n",
              "            style=\"display:none;\">\n",
              "\n",
              "  <svg xmlns=\"http://www.w3.org/2000/svg\" height=\"24px\" viewBox=\"0 -960 960 960\">\n",
              "    <path d=\"M120-120v-720h720v720H120Zm60-500h600v-160H180v160Zm220 220h160v-160H400v160Zm0 220h160v-160H400v160ZM180-400h160v-160H180v160Zm440 0h160v-160H620v160ZM180-180h160v-160H180v160Zm440 0h160v-160H620v160Z\"/>\n",
              "  </svg>\n",
              "    </button>\n",
              "\n",
              "  <style>\n",
              "    .colab-df-container {\n",
              "      display:flex;\n",
              "      gap: 12px;\n",
              "    }\n",
              "\n",
              "    .colab-df-convert {\n",
              "      background-color: #E8F0FE;\n",
              "      border: none;\n",
              "      border-radius: 50%;\n",
              "      cursor: pointer;\n",
              "      display: none;\n",
              "      fill: #1967D2;\n",
              "      height: 32px;\n",
              "      padding: 0 0 0 0;\n",
              "      width: 32px;\n",
              "    }\n",
              "\n",
              "    .colab-df-convert:hover {\n",
              "      background-color: #E2EBFA;\n",
              "      box-shadow: 0px 1px 2px rgba(60, 64, 67, 0.3), 0px 1px 3px 1px rgba(60, 64, 67, 0.15);\n",
              "      fill: #174EA6;\n",
              "    }\n",
              "\n",
              "    .colab-df-buttons div {\n",
              "      margin-bottom: 4px;\n",
              "    }\n",
              "\n",
              "    [theme=dark] .colab-df-convert {\n",
              "      background-color: #3B4455;\n",
              "      fill: #D2E3FC;\n",
              "    }\n",
              "\n",
              "    [theme=dark] .colab-df-convert:hover {\n",
              "      background-color: #434B5C;\n",
              "      box-shadow: 0px 1px 3px 1px rgba(0, 0, 0, 0.15);\n",
              "      filter: drop-shadow(0px 1px 2px rgba(0, 0, 0, 0.3));\n",
              "      fill: #FFFFFF;\n",
              "    }\n",
              "  </style>\n",
              "\n",
              "    <script>\n",
              "      const buttonEl =\n",
              "        document.querySelector('#df-8da164aa-a242-4a42-a446-b36fb680c1ca button.colab-df-convert');\n",
              "      buttonEl.style.display =\n",
              "        google.colab.kernel.accessAllowed ? 'block' : 'none';\n",
              "\n",
              "      async function convertToInteractive(key) {\n",
              "        const element = document.querySelector('#df-8da164aa-a242-4a42-a446-b36fb680c1ca');\n",
              "        const dataTable =\n",
              "          await google.colab.kernel.invokeFunction('convertToInteractive',\n",
              "                                                    [key], {});\n",
              "        if (!dataTable) return;\n",
              "\n",
              "        const docLinkHtml = 'Like what you see? Visit the ' +\n",
              "          '<a target=\"_blank\" href=https://colab.research.google.com/notebooks/data_table.ipynb>data table notebook</a>'\n",
              "          + ' to learn more about interactive tables.';\n",
              "        element.innerHTML = '';\n",
              "        dataTable['output_type'] = 'display_data';\n",
              "        await google.colab.output.renderOutput(dataTable, element);\n",
              "        const docLink = document.createElement('div');\n",
              "        docLink.innerHTML = docLinkHtml;\n",
              "        element.appendChild(docLink);\n",
              "      }\n",
              "    </script>\n",
              "  </div>\n",
              "\n",
              "\n",
              "<div id=\"df-572fd70e-63d4-4ccb-b0d0-ce72ed086c34\">\n",
              "  <button class=\"colab-df-quickchart\" onclick=\"quickchart('df-572fd70e-63d4-4ccb-b0d0-ce72ed086c34')\"\n",
              "            title=\"Suggest charts\"\n",
              "            style=\"display:none;\">\n",
              "\n",
              "<svg xmlns=\"http://www.w3.org/2000/svg\" height=\"24px\"viewBox=\"0 0 24 24\"\n",
              "     width=\"24px\">\n",
              "    <g>\n",
              "        <path d=\"M19 3H5c-1.1 0-2 .9-2 2v14c0 1.1.9 2 2 2h14c1.1 0 2-.9 2-2V5c0-1.1-.9-2-2-2zM9 17H7v-7h2v7zm4 0h-2V7h2v10zm4 0h-2v-4h2v4z\"/>\n",
              "    </g>\n",
              "</svg>\n",
              "  </button>\n",
              "\n",
              "<style>\n",
              "  .colab-df-quickchart {\n",
              "      --bg-color: #E8F0FE;\n",
              "      --fill-color: #1967D2;\n",
              "      --hover-bg-color: #E2EBFA;\n",
              "      --hover-fill-color: #174EA6;\n",
              "      --disabled-fill-color: #AAA;\n",
              "      --disabled-bg-color: #DDD;\n",
              "  }\n",
              "\n",
              "  [theme=dark] .colab-df-quickchart {\n",
              "      --bg-color: #3B4455;\n",
              "      --fill-color: #D2E3FC;\n",
              "      --hover-bg-color: #434B5C;\n",
              "      --hover-fill-color: #FFFFFF;\n",
              "      --disabled-bg-color: #3B4455;\n",
              "      --disabled-fill-color: #666;\n",
              "  }\n",
              "\n",
              "  .colab-df-quickchart {\n",
              "    background-color: var(--bg-color);\n",
              "    border: none;\n",
              "    border-radius: 50%;\n",
              "    cursor: pointer;\n",
              "    display: none;\n",
              "    fill: var(--fill-color);\n",
              "    height: 32px;\n",
              "    padding: 0;\n",
              "    width: 32px;\n",
              "  }\n",
              "\n",
              "  .colab-df-quickchart:hover {\n",
              "    background-color: var(--hover-bg-color);\n",
              "    box-shadow: 0 1px 2px rgba(60, 64, 67, 0.3), 0 1px 3px 1px rgba(60, 64, 67, 0.15);\n",
              "    fill: var(--button-hover-fill-color);\n",
              "  }\n",
              "\n",
              "  .colab-df-quickchart-complete:disabled,\n",
              "  .colab-df-quickchart-complete:disabled:hover {\n",
              "    background-color: var(--disabled-bg-color);\n",
              "    fill: var(--disabled-fill-color);\n",
              "    box-shadow: none;\n",
              "  }\n",
              "\n",
              "  .colab-df-spinner {\n",
              "    border: 2px solid var(--fill-color);\n",
              "    border-color: transparent;\n",
              "    border-bottom-color: var(--fill-color);\n",
              "    animation:\n",
              "      spin 1s steps(1) infinite;\n",
              "  }\n",
              "\n",
              "  @keyframes spin {\n",
              "    0% {\n",
              "      border-color: transparent;\n",
              "      border-bottom-color: var(--fill-color);\n",
              "      border-left-color: var(--fill-color);\n",
              "    }\n",
              "    20% {\n",
              "      border-color: transparent;\n",
              "      border-left-color: var(--fill-color);\n",
              "      border-top-color: var(--fill-color);\n",
              "    }\n",
              "    30% {\n",
              "      border-color: transparent;\n",
              "      border-left-color: var(--fill-color);\n",
              "      border-top-color: var(--fill-color);\n",
              "      border-right-color: var(--fill-color);\n",
              "    }\n",
              "    40% {\n",
              "      border-color: transparent;\n",
              "      border-right-color: var(--fill-color);\n",
              "      border-top-color: var(--fill-color);\n",
              "    }\n",
              "    60% {\n",
              "      border-color: transparent;\n",
              "      border-right-color: var(--fill-color);\n",
              "    }\n",
              "    80% {\n",
              "      border-color: transparent;\n",
              "      border-right-color: var(--fill-color);\n",
              "      border-bottom-color: var(--fill-color);\n",
              "    }\n",
              "    90% {\n",
              "      border-color: transparent;\n",
              "      border-bottom-color: var(--fill-color);\n",
              "    }\n",
              "  }\n",
              "</style>\n",
              "\n",
              "  <script>\n",
              "    async function quickchart(key) {\n",
              "      const quickchartButtonEl =\n",
              "        document.querySelector('#' + key + ' button');\n",
              "      quickchartButtonEl.disabled = true;  // To prevent multiple clicks.\n",
              "      quickchartButtonEl.classList.add('colab-df-spinner');\n",
              "      try {\n",
              "        const charts = await google.colab.kernel.invokeFunction(\n",
              "            'suggestCharts', [key], {});\n",
              "      } catch (error) {\n",
              "        console.error('Error during call to suggestCharts:', error);\n",
              "      }\n",
              "      quickchartButtonEl.classList.remove('colab-df-spinner');\n",
              "      quickchartButtonEl.classList.add('colab-df-quickchart-complete');\n",
              "    }\n",
              "    (() => {\n",
              "      let quickchartButtonEl =\n",
              "        document.querySelector('#df-572fd70e-63d4-4ccb-b0d0-ce72ed086c34 button');\n",
              "      quickchartButtonEl.style.display =\n",
              "        google.colab.kernel.accessAllowed ? 'block' : 'none';\n",
              "    })();\n",
              "  </script>\n",
              "</div>\n",
              "\n",
              "    </div>\n",
              "  </div>\n"
            ],
            "application/vnd.google.colaboratory.intrinsic+json": {
              "type": "dataframe",
              "variable_name": "df",
              "summary": "{\n  \"name\": \"df\",\n  \"rows\": 5,\n  \"fields\": [\n    {\n      \"column\": \"name\",\n      \"properties\": {\n        \"dtype\": \"string\",\n        \"num_unique_values\": 5,\n        \"samples\": [\n          \"Bob\",\n          \"Eva\",\n          \"Charlie\"\n        ],\n        \"semantic_type\": \"\",\n        \"description\": \"\"\n      }\n    },\n    {\n      \"column\": \"age\",\n      \"properties\": {\n        \"dtype\": \"number\",\n        \"std\": 3,\n        \"min\": 22,\n        \"max\": 30,\n        \"num_unique_values\": 4,\n        \"samples\": [\n          22,\n          24,\n          30\n        ],\n        \"semantic_type\": \"\",\n        \"description\": \"\"\n      }\n    },\n    {\n      \"column\": \"city\",\n      \"properties\": {\n        \"dtype\": \"string\",\n        \"num_unique_values\": 5,\n        \"samples\": [\n          \"Los Angeles\",\n          \"Houston\",\n          \"Chicago\"\n        ],\n        \"semantic_type\": \"\",\n        \"description\": \"\"\n      }\n    },\n    {\n      \"column\": \"date_of_birth\",\n      \"properties\": {\n        \"dtype\": \"date\",\n        \"min\": \"1993-05-01 00:00:00\",\n        \"max\": \"2001-02-28 00:00:00\",\n        \"num_unique_values\": 5,\n        \"samples\": [\n          \"2000-06-15 00:00:00\",\n          \"2001-02-28 00:00:00\",\n          \"1998-09-20 00:00:00\"\n        ],\n        \"semantic_type\": \"\",\n        \"description\": \"\"\n      }\n    },\n    {\n      \"column\": \"score\",\n      \"properties\": {\n        \"dtype\": \"number\",\n        \"std\": 7.0059498523279,\n        \"min\": 78.0,\n        \"max\": 92.0,\n        \"num_unique_values\": 3,\n        \"samples\": [\n          85.5,\n          92.0,\n          78.0\n        ],\n        \"semantic_type\": \"\",\n        \"description\": \"\"\n      }\n    }\n  ]\n}"
            }
          },
          "metadata": {},
          "execution_count": 66
        }
      ]
    },
    {
      "cell_type": "markdown",
      "source": [
        "### 2. JSON(JavaScipt Object Notation)\n",
        "\n",
        "Overview:\n",
        "\n",
        "JSON is a lightweight, text-based format that's easy for humans to read and write and easy for machines to parse and generate.\n",
        "\n",
        "\n",
        "\n",
        "```\n",
        "# Structure of a json file\n",
        "\n",
        "{\n",
        "  \"employees\": [\n",
        "    {\n",
        "      \"name\": \"John Doe\",\n",
        "      \"age\": 30,\n",
        "      \"city\": \"New York\",\n",
        "      \"skills\": [\"Python\", \"SQL\", \"Machine Learning\"],\n",
        "      \"details\": {\n",
        "        \"department\": \"Data Science\",\n",
        "        \"years_experience\": 5\n",
        "      }\n",
        "    },\n",
        "    {\n",
        "      \"name\": \"Jane Smith\",\n",
        "      \"age\": 28,\n",
        "      \"city\": \"San Francisco\",\n",
        "      \"skills\": [\"R\", \"Statistics\", \"Deep Learning\"],\n",
        "      \"details\": {\n",
        "        \"department\": \"AI Research\",\n",
        "        \"years_experience\": 3\n",
        "      }\n",
        "    }\n",
        "  ]\n",
        "}\n",
        "```\n",
        "\n"
      ],
      "metadata": {
        "id": "omZcCjbbDry3"
      }
    },
    {
      "cell_type": "markdown",
      "source": [
        "#### Advantages\n",
        "\n",
        "1. Supports hierarchical data structures\n",
        "2. Self-describing\n",
        "3. Language independent\n",
        "4. Wide support in APIs\n",
        "5. Native support in web browsers\n",
        "\n",
        "#### Disadvantages\n",
        "\n",
        "1. More verbose than CSV\n",
        "2. Can be less efficient for large datasets\n"
      ],
      "metadata": {
        "id": "u5fxxDDaEA80"
      }
    },
    {
      "cell_type": "code",
      "source": [
        "import json\n",
        "\n",
        "# Sample data for the JSON file\n",
        "data = {\n",
        "    \"employees\": [\n",
        "        {\n",
        "            \"name\": \"John Doe\",\n",
        "            \"age\": 30,\n",
        "            \"city\": \"New York\",\n",
        "            \"skills\": [\"Python\", \"SQL\", \"Machine Learning\"],\n",
        "            \"details\": {\n",
        "                \"department\": \"Data Science\",\n",
        "                \"years_experience\": 5\n",
        "            }\n",
        "        },\n",
        "        {\n",
        "            \"name\": \"Jane Smith\",\n",
        "            \"age\": 28,\n",
        "            \"city\": \"San Francisco\",\n",
        "            \"skills\": [\"R\", \"Statistics\", \"Deep Learning\"],\n",
        "            \"details\": {\n",
        "                \"department\": \"AI Research\",\n",
        "                \"years_experience\": 3\n",
        "            }\n",
        "        }\n",
        "    ]\n",
        "}\n",
        "\n",
        "# Write the sample data to a JSON file\n",
        "with open('employees.json', 'w') as json_file:\n",
        "    json.dump(data, json_file, indent=4)\n",
        "\n",
        "print(\"employees.json file created.\")"
      ],
      "metadata": {
        "colab": {
          "base_uri": "https://localhost:8080/"
        },
        "id": "QuCKyc6940K_",
        "outputId": "d5da694a-5c8d-4c0a-b682-79729aca02a8"
      },
      "execution_count": null,
      "outputs": [
        {
          "output_type": "stream",
          "name": "stdout",
          "text": [
            "employees.json file created.\n"
          ]
        }
      ]
    },
    {
      "cell_type": "code",
      "source": [
        "# Working with JSON File\n",
        "import json\n",
        "import pandas as pd\n",
        "\n",
        "# Reading the JSON file\n",
        "with open('employees.json') as json_file:\n",
        "    data = json.load(json_file)\n",
        "\n",
        "# Converting to DataFrame\n",
        "df = pd.DataFrame(data['employees'])\n",
        "\n",
        "df.head()"
      ],
      "metadata": {
        "colab": {
          "base_uri": "https://localhost:8080/",
          "height": 112
        },
        "id": "y7If3XMeEcqA",
        "outputId": "e732bf1b-2ca0-43c8-da43-50ab15fd28ab"
      },
      "execution_count": null,
      "outputs": [
        {
          "output_type": "execute_result",
          "data": {
            "text/plain": [
              "         name  age           city                           skills  \\\n",
              "0    John Doe   30       New York  [Python, SQL, Machine Learning]   \n",
              "1  Jane Smith   28  San Francisco   [R, Statistics, Deep Learning]   \n",
              "\n",
              "                                             details  \n",
              "0  {'department': 'Data Science', 'years_experien...  \n",
              "1  {'department': 'AI Research', 'years_experienc...  "
            ],
            "text/html": [
              "\n",
              "  <div id=\"df-d601116b-0490-41a0-8285-b639b2c217de\" class=\"colab-df-container\">\n",
              "    <div>\n",
              "<style scoped>\n",
              "    .dataframe tbody tr th:only-of-type {\n",
              "        vertical-align: middle;\n",
              "    }\n",
              "\n",
              "    .dataframe tbody tr th {\n",
              "        vertical-align: top;\n",
              "    }\n",
              "\n",
              "    .dataframe thead th {\n",
              "        text-align: right;\n",
              "    }\n",
              "</style>\n",
              "<table border=\"1\" class=\"dataframe\">\n",
              "  <thead>\n",
              "    <tr style=\"text-align: right;\">\n",
              "      <th></th>\n",
              "      <th>name</th>\n",
              "      <th>age</th>\n",
              "      <th>city</th>\n",
              "      <th>skills</th>\n",
              "      <th>details</th>\n",
              "    </tr>\n",
              "  </thead>\n",
              "  <tbody>\n",
              "    <tr>\n",
              "      <th>0</th>\n",
              "      <td>John Doe</td>\n",
              "      <td>30</td>\n",
              "      <td>New York</td>\n",
              "      <td>[Python, SQL, Machine Learning]</td>\n",
              "      <td>{'department': 'Data Science', 'years_experien...</td>\n",
              "    </tr>\n",
              "    <tr>\n",
              "      <th>1</th>\n",
              "      <td>Jane Smith</td>\n",
              "      <td>28</td>\n",
              "      <td>San Francisco</td>\n",
              "      <td>[R, Statistics, Deep Learning]</td>\n",
              "      <td>{'department': 'AI Research', 'years_experienc...</td>\n",
              "    </tr>\n",
              "  </tbody>\n",
              "</table>\n",
              "</div>\n",
              "    <div class=\"colab-df-buttons\">\n",
              "\n",
              "  <div class=\"colab-df-container\">\n",
              "    <button class=\"colab-df-convert\" onclick=\"convertToInteractive('df-d601116b-0490-41a0-8285-b639b2c217de')\"\n",
              "            title=\"Convert this dataframe to an interactive table.\"\n",
              "            style=\"display:none;\">\n",
              "\n",
              "  <svg xmlns=\"http://www.w3.org/2000/svg\" height=\"24px\" viewBox=\"0 -960 960 960\">\n",
              "    <path d=\"M120-120v-720h720v720H120Zm60-500h600v-160H180v160Zm220 220h160v-160H400v160Zm0 220h160v-160H400v160ZM180-400h160v-160H180v160Zm440 0h160v-160H620v160ZM180-180h160v-160H180v160Zm440 0h160v-160H620v160Z\"/>\n",
              "  </svg>\n",
              "    </button>\n",
              "\n",
              "  <style>\n",
              "    .colab-df-container {\n",
              "      display:flex;\n",
              "      gap: 12px;\n",
              "    }\n",
              "\n",
              "    .colab-df-convert {\n",
              "      background-color: #E8F0FE;\n",
              "      border: none;\n",
              "      border-radius: 50%;\n",
              "      cursor: pointer;\n",
              "      display: none;\n",
              "      fill: #1967D2;\n",
              "      height: 32px;\n",
              "      padding: 0 0 0 0;\n",
              "      width: 32px;\n",
              "    }\n",
              "\n",
              "    .colab-df-convert:hover {\n",
              "      background-color: #E2EBFA;\n",
              "      box-shadow: 0px 1px 2px rgba(60, 64, 67, 0.3), 0px 1px 3px 1px rgba(60, 64, 67, 0.15);\n",
              "      fill: #174EA6;\n",
              "    }\n",
              "\n",
              "    .colab-df-buttons div {\n",
              "      margin-bottom: 4px;\n",
              "    }\n",
              "\n",
              "    [theme=dark] .colab-df-convert {\n",
              "      background-color: #3B4455;\n",
              "      fill: #D2E3FC;\n",
              "    }\n",
              "\n",
              "    [theme=dark] .colab-df-convert:hover {\n",
              "      background-color: #434B5C;\n",
              "      box-shadow: 0px 1px 3px 1px rgba(0, 0, 0, 0.15);\n",
              "      filter: drop-shadow(0px 1px 2px rgba(0, 0, 0, 0.3));\n",
              "      fill: #FFFFFF;\n",
              "    }\n",
              "  </style>\n",
              "\n",
              "    <script>\n",
              "      const buttonEl =\n",
              "        document.querySelector('#df-d601116b-0490-41a0-8285-b639b2c217de button.colab-df-convert');\n",
              "      buttonEl.style.display =\n",
              "        google.colab.kernel.accessAllowed ? 'block' : 'none';\n",
              "\n",
              "      async function convertToInteractive(key) {\n",
              "        const element = document.querySelector('#df-d601116b-0490-41a0-8285-b639b2c217de');\n",
              "        const dataTable =\n",
              "          await google.colab.kernel.invokeFunction('convertToInteractive',\n",
              "                                                    [key], {});\n",
              "        if (!dataTable) return;\n",
              "\n",
              "        const docLinkHtml = 'Like what you see? Visit the ' +\n",
              "          '<a target=\"_blank\" href=https://colab.research.google.com/notebooks/data_table.ipynb>data table notebook</a>'\n",
              "          + ' to learn more about interactive tables.';\n",
              "        element.innerHTML = '';\n",
              "        dataTable['output_type'] = 'display_data';\n",
              "        await google.colab.output.renderOutput(dataTable, element);\n",
              "        const docLink = document.createElement('div');\n",
              "        docLink.innerHTML = docLinkHtml;\n",
              "        element.appendChild(docLink);\n",
              "      }\n",
              "    </script>\n",
              "  </div>\n",
              "\n",
              "\n",
              "<div id=\"df-6e885ebf-3f2b-48b7-81b9-270776b5f2b2\">\n",
              "  <button class=\"colab-df-quickchart\" onclick=\"quickchart('df-6e885ebf-3f2b-48b7-81b9-270776b5f2b2')\"\n",
              "            title=\"Suggest charts\"\n",
              "            style=\"display:none;\">\n",
              "\n",
              "<svg xmlns=\"http://www.w3.org/2000/svg\" height=\"24px\"viewBox=\"0 0 24 24\"\n",
              "     width=\"24px\">\n",
              "    <g>\n",
              "        <path d=\"M19 3H5c-1.1 0-2 .9-2 2v14c0 1.1.9 2 2 2h14c1.1 0 2-.9 2-2V5c0-1.1-.9-2-2-2zM9 17H7v-7h2v7zm4 0h-2V7h2v10zm4 0h-2v-4h2v4z\"/>\n",
              "    </g>\n",
              "</svg>\n",
              "  </button>\n",
              "\n",
              "<style>\n",
              "  .colab-df-quickchart {\n",
              "      --bg-color: #E8F0FE;\n",
              "      --fill-color: #1967D2;\n",
              "      --hover-bg-color: #E2EBFA;\n",
              "      --hover-fill-color: #174EA6;\n",
              "      --disabled-fill-color: #AAA;\n",
              "      --disabled-bg-color: #DDD;\n",
              "  }\n",
              "\n",
              "  [theme=dark] .colab-df-quickchart {\n",
              "      --bg-color: #3B4455;\n",
              "      --fill-color: #D2E3FC;\n",
              "      --hover-bg-color: #434B5C;\n",
              "      --hover-fill-color: #FFFFFF;\n",
              "      --disabled-bg-color: #3B4455;\n",
              "      --disabled-fill-color: #666;\n",
              "  }\n",
              "\n",
              "  .colab-df-quickchart {\n",
              "    background-color: var(--bg-color);\n",
              "    border: none;\n",
              "    border-radius: 50%;\n",
              "    cursor: pointer;\n",
              "    display: none;\n",
              "    fill: var(--fill-color);\n",
              "    height: 32px;\n",
              "    padding: 0;\n",
              "    width: 32px;\n",
              "  }\n",
              "\n",
              "  .colab-df-quickchart:hover {\n",
              "    background-color: var(--hover-bg-color);\n",
              "    box-shadow: 0 1px 2px rgba(60, 64, 67, 0.3), 0 1px 3px 1px rgba(60, 64, 67, 0.15);\n",
              "    fill: var(--button-hover-fill-color);\n",
              "  }\n",
              "\n",
              "  .colab-df-quickchart-complete:disabled,\n",
              "  .colab-df-quickchart-complete:disabled:hover {\n",
              "    background-color: var(--disabled-bg-color);\n",
              "    fill: var(--disabled-fill-color);\n",
              "    box-shadow: none;\n",
              "  }\n",
              "\n",
              "  .colab-df-spinner {\n",
              "    border: 2px solid var(--fill-color);\n",
              "    border-color: transparent;\n",
              "    border-bottom-color: var(--fill-color);\n",
              "    animation:\n",
              "      spin 1s steps(1) infinite;\n",
              "  }\n",
              "\n",
              "  @keyframes spin {\n",
              "    0% {\n",
              "      border-color: transparent;\n",
              "      border-bottom-color: var(--fill-color);\n",
              "      border-left-color: var(--fill-color);\n",
              "    }\n",
              "    20% {\n",
              "      border-color: transparent;\n",
              "      border-left-color: var(--fill-color);\n",
              "      border-top-color: var(--fill-color);\n",
              "    }\n",
              "    30% {\n",
              "      border-color: transparent;\n",
              "      border-left-color: var(--fill-color);\n",
              "      border-top-color: var(--fill-color);\n",
              "      border-right-color: var(--fill-color);\n",
              "    }\n",
              "    40% {\n",
              "      border-color: transparent;\n",
              "      border-right-color: var(--fill-color);\n",
              "      border-top-color: var(--fill-color);\n",
              "    }\n",
              "    60% {\n",
              "      border-color: transparent;\n",
              "      border-right-color: var(--fill-color);\n",
              "    }\n",
              "    80% {\n",
              "      border-color: transparent;\n",
              "      border-right-color: var(--fill-color);\n",
              "      border-bottom-color: var(--fill-color);\n",
              "    }\n",
              "    90% {\n",
              "      border-color: transparent;\n",
              "      border-bottom-color: var(--fill-color);\n",
              "    }\n",
              "  }\n",
              "</style>\n",
              "\n",
              "  <script>\n",
              "    async function quickchart(key) {\n",
              "      const quickchartButtonEl =\n",
              "        document.querySelector('#' + key + ' button');\n",
              "      quickchartButtonEl.disabled = true;  // To prevent multiple clicks.\n",
              "      quickchartButtonEl.classList.add('colab-df-spinner');\n",
              "      try {\n",
              "        const charts = await google.colab.kernel.invokeFunction(\n",
              "            'suggestCharts', [key], {});\n",
              "      } catch (error) {\n",
              "        console.error('Error during call to suggestCharts:', error);\n",
              "      }\n",
              "      quickchartButtonEl.classList.remove('colab-df-spinner');\n",
              "      quickchartButtonEl.classList.add('colab-df-quickchart-complete');\n",
              "    }\n",
              "    (() => {\n",
              "      let quickchartButtonEl =\n",
              "        document.querySelector('#df-6e885ebf-3f2b-48b7-81b9-270776b5f2b2 button');\n",
              "      quickchartButtonEl.style.display =\n",
              "        google.colab.kernel.accessAllowed ? 'block' : 'none';\n",
              "    })();\n",
              "  </script>\n",
              "</div>\n",
              "\n",
              "    </div>\n",
              "  </div>\n"
            ],
            "application/vnd.google.colaboratory.intrinsic+json": {
              "type": "dataframe",
              "variable_name": "df",
              "summary": "{\n  \"name\": \"df\",\n  \"rows\": 2,\n  \"fields\": [\n    {\n      \"column\": \"name\",\n      \"properties\": {\n        \"dtype\": \"string\",\n        \"num_unique_values\": 2,\n        \"samples\": [\n          \"Jane Smith\",\n          \"John Doe\"\n        ],\n        \"semantic_type\": \"\",\n        \"description\": \"\"\n      }\n    },\n    {\n      \"column\": \"age\",\n      \"properties\": {\n        \"dtype\": \"number\",\n        \"std\": 1,\n        \"min\": 28,\n        \"max\": 30,\n        \"num_unique_values\": 2,\n        \"samples\": [\n          28,\n          30\n        ],\n        \"semantic_type\": \"\",\n        \"description\": \"\"\n      }\n    },\n    {\n      \"column\": \"city\",\n      \"properties\": {\n        \"dtype\": \"string\",\n        \"num_unique_values\": 2,\n        \"samples\": [\n          \"San Francisco\",\n          \"New York\"\n        ],\n        \"semantic_type\": \"\",\n        \"description\": \"\"\n      }\n    },\n    {\n      \"column\": \"skills\",\n      \"properties\": {\n        \"dtype\": \"object\",\n        \"semantic_type\": \"\",\n        \"description\": \"\"\n      }\n    },\n    {\n      \"column\": \"details\",\n      \"properties\": {\n        \"dtype\": \"object\",\n        \"semantic_type\": \"\",\n        \"description\": \"\"\n      }\n    }\n  ]\n}"
            }
          },
          "metadata": {},
          "execution_count": 75
        }
      ]
    },
    {
      "cell_type": "markdown",
      "source": [
        "### 3. XML (eXtensible Markup Language)\n",
        "\n",
        "Overview:\n",
        "\n",
        "XML is a markup language that defines rules for encoding documents in a format that is both human-readable and machine-readable."
      ],
      "metadata": {
        "id": "xo49ZfsCEkD9"
      }
    },
    {
      "cell_type": "markdown",
      "source": [
        "#### Structure of XML\n",
        "\n",
        "```\n",
        "<?xml version=\"1.0\" encoding=\"UTF-8\"?>\n",
        "<dataset>\n",
        "    <record>\n",
        "        <name>John Doe</name>\n",
        "        <age>30</age>\n",
        "        <skills>\n",
        "            <skill>Python</skill>\n",
        "            <skill>SQL</skill>\n",
        "        </skills>\n",
        "    </record>\n",
        "    <record>\n",
        "        <name>Jane Smith</name>\n",
        "        <age>28</age>\n",
        "        <skills>\n",
        "            <skill>R</skill>\n",
        "            <skill>Statistics</skill>\n",
        "        </skills>\n",
        "    </record>\n",
        "</dataset>\n",
        "```\n",
        "\n"
      ],
      "metadata": {
        "id": "WoRbKL2fFPzu"
      }
    },
    {
      "cell_type": "markdown",
      "source": [
        "#### Advantages\n",
        "\n",
        "1. Self-describing\n",
        "2. Strict syntax rules\n",
        "3. Support for complex data structures\n",
        "4. Widespread use in enterprise systems\n",
        "5. Strong support for different character encodings\n",
        "\n",
        "\n",
        "##### Disadvantages\n",
        "\n",
        "1. Verbose compared to JSON and CSV\n",
        "2. More complex to parse\n",
        "3. Larger file size"
      ],
      "metadata": {
        "id": "bSIJUoXnFf38"
      }
    },
    {
      "cell_type": "code",
      "source": [
        "# Step 1: Create the XML file\n",
        "xml_data = '''<?xml version=\"1.0\" encoding=\"UTF-8\"?>\n",
        "<dataset>\n",
        "    <record>\n",
        "        <name>John Doe</name>\n",
        "        <age>30</age>\n",
        "        <skills>\n",
        "            <skill>Python</skill>\n",
        "            <skill>SQL</skill>\n",
        "        </skills>\n",
        "    </record>\n",
        "    <record>\n",
        "        <name>Jane Smith</name>\n",
        "        <age>28</age>\n",
        "        <skills>\n",
        "            <skill>R</skill>\n",
        "            <skill>Statistics</skill>\n",
        "        </skills>\n",
        "    </record>\n",
        "</dataset>\n",
        "'''\n",
        "\n",
        "# Write the XML data to a file\n",
        "with open('employees.xml', 'w') as xml_file:\n",
        "    xml_file.write(xml_data)\n",
        "\n",
        "print(\"employees.xml file created.\")\n"
      ],
      "metadata": {
        "colab": {
          "base_uri": "https://localhost:8080/"
        },
        "id": "5yNFuV886GLZ",
        "outputId": "27ca2bea-c3ad-43a5-f859-7cfa60ebc203"
      },
      "execution_count": null,
      "outputs": [
        {
          "output_type": "stream",
          "name": "stdout",
          "text": [
            "employees.xml file created.\n"
          ]
        }
      ]
    },
    {
      "cell_type": "code",
      "source": [
        "# Working with XML in Python\n",
        "\n",
        "import xml.etree.ElementTree as ET\n",
        "import pandas as pd\n",
        "\n",
        "# Reading XML\n",
        "tree = ET.parse('employees.xml')\n",
        "root = tree.getroot()\n",
        "\n",
        "# Converting to DataFrame\n",
        "from xml.etree import ElementTree\n",
        "import pandas as pd\n",
        "\n",
        "def xml_to_df(xml_file):\n",
        "    tree = ElementTree.parse(xml_file)\n",
        "    root = tree.getroot()\n",
        "\n",
        "    data = []\n",
        "    for record in root.findall('record'):\n",
        "        row = {}\n",
        "        for child in record:\n",
        "            row[child.tag] = child.text\n",
        "        data.append(row)\n",
        "\n",
        "    return pd.DataFrame(data)\n",
        "\n",
        "df = xml_to_df('employees.xml')\n",
        "df.head()"
      ],
      "metadata": {
        "colab": {
          "base_uri": "https://localhost:8080/",
          "height": 112
        },
        "id": "MO8ovg8TFw6T",
        "outputId": "2e1a7a37-9cb3-4e78-8a79-0e57f3b01e56"
      },
      "execution_count": null,
      "outputs": [
        {
          "output_type": "execute_result",
          "data": {
            "text/plain": [
              "         name age          skills\n",
              "0    John Doe  30  \\n            \n",
              "1  Jane Smith  28  \\n            "
            ],
            "text/html": [
              "\n",
              "  <div id=\"df-2b657a70-6162-49a8-bd40-19c050ba978c\" class=\"colab-df-container\">\n",
              "    <div>\n",
              "<style scoped>\n",
              "    .dataframe tbody tr th:only-of-type {\n",
              "        vertical-align: middle;\n",
              "    }\n",
              "\n",
              "    .dataframe tbody tr th {\n",
              "        vertical-align: top;\n",
              "    }\n",
              "\n",
              "    .dataframe thead th {\n",
              "        text-align: right;\n",
              "    }\n",
              "</style>\n",
              "<table border=\"1\" class=\"dataframe\">\n",
              "  <thead>\n",
              "    <tr style=\"text-align: right;\">\n",
              "      <th></th>\n",
              "      <th>name</th>\n",
              "      <th>age</th>\n",
              "      <th>skills</th>\n",
              "    </tr>\n",
              "  </thead>\n",
              "  <tbody>\n",
              "    <tr>\n",
              "      <th>0</th>\n",
              "      <td>John Doe</td>\n",
              "      <td>30</td>\n",
              "      <td>\\n</td>\n",
              "    </tr>\n",
              "    <tr>\n",
              "      <th>1</th>\n",
              "      <td>Jane Smith</td>\n",
              "      <td>28</td>\n",
              "      <td>\\n</td>\n",
              "    </tr>\n",
              "  </tbody>\n",
              "</table>\n",
              "</div>\n",
              "    <div class=\"colab-df-buttons\">\n",
              "\n",
              "  <div class=\"colab-df-container\">\n",
              "    <button class=\"colab-df-convert\" onclick=\"convertToInteractive('df-2b657a70-6162-49a8-bd40-19c050ba978c')\"\n",
              "            title=\"Convert this dataframe to an interactive table.\"\n",
              "            style=\"display:none;\">\n",
              "\n",
              "  <svg xmlns=\"http://www.w3.org/2000/svg\" height=\"24px\" viewBox=\"0 -960 960 960\">\n",
              "    <path d=\"M120-120v-720h720v720H120Zm60-500h600v-160H180v160Zm220 220h160v-160H400v160Zm0 220h160v-160H400v160ZM180-400h160v-160H180v160Zm440 0h160v-160H620v160ZM180-180h160v-160H180v160Zm440 0h160v-160H620v160Z\"/>\n",
              "  </svg>\n",
              "    </button>\n",
              "\n",
              "  <style>\n",
              "    .colab-df-container {\n",
              "      display:flex;\n",
              "      gap: 12px;\n",
              "    }\n",
              "\n",
              "    .colab-df-convert {\n",
              "      background-color: #E8F0FE;\n",
              "      border: none;\n",
              "      border-radius: 50%;\n",
              "      cursor: pointer;\n",
              "      display: none;\n",
              "      fill: #1967D2;\n",
              "      height: 32px;\n",
              "      padding: 0 0 0 0;\n",
              "      width: 32px;\n",
              "    }\n",
              "\n",
              "    .colab-df-convert:hover {\n",
              "      background-color: #E2EBFA;\n",
              "      box-shadow: 0px 1px 2px rgba(60, 64, 67, 0.3), 0px 1px 3px 1px rgba(60, 64, 67, 0.15);\n",
              "      fill: #174EA6;\n",
              "    }\n",
              "\n",
              "    .colab-df-buttons div {\n",
              "      margin-bottom: 4px;\n",
              "    }\n",
              "\n",
              "    [theme=dark] .colab-df-convert {\n",
              "      background-color: #3B4455;\n",
              "      fill: #D2E3FC;\n",
              "    }\n",
              "\n",
              "    [theme=dark] .colab-df-convert:hover {\n",
              "      background-color: #434B5C;\n",
              "      box-shadow: 0px 1px 3px 1px rgba(0, 0, 0, 0.15);\n",
              "      filter: drop-shadow(0px 1px 2px rgba(0, 0, 0, 0.3));\n",
              "      fill: #FFFFFF;\n",
              "    }\n",
              "  </style>\n",
              "\n",
              "    <script>\n",
              "      const buttonEl =\n",
              "        document.querySelector('#df-2b657a70-6162-49a8-bd40-19c050ba978c button.colab-df-convert');\n",
              "      buttonEl.style.display =\n",
              "        google.colab.kernel.accessAllowed ? 'block' : 'none';\n",
              "\n",
              "      async function convertToInteractive(key) {\n",
              "        const element = document.querySelector('#df-2b657a70-6162-49a8-bd40-19c050ba978c');\n",
              "        const dataTable =\n",
              "          await google.colab.kernel.invokeFunction('convertToInteractive',\n",
              "                                                    [key], {});\n",
              "        if (!dataTable) return;\n",
              "\n",
              "        const docLinkHtml = 'Like what you see? Visit the ' +\n",
              "          '<a target=\"_blank\" href=https://colab.research.google.com/notebooks/data_table.ipynb>data table notebook</a>'\n",
              "          + ' to learn more about interactive tables.';\n",
              "        element.innerHTML = '';\n",
              "        dataTable['output_type'] = 'display_data';\n",
              "        await google.colab.output.renderOutput(dataTable, element);\n",
              "        const docLink = document.createElement('div');\n",
              "        docLink.innerHTML = docLinkHtml;\n",
              "        element.appendChild(docLink);\n",
              "      }\n",
              "    </script>\n",
              "  </div>\n",
              "\n",
              "\n",
              "<div id=\"df-802def7c-2177-43c2-b496-cd9b1920dadc\">\n",
              "  <button class=\"colab-df-quickchart\" onclick=\"quickchart('df-802def7c-2177-43c2-b496-cd9b1920dadc')\"\n",
              "            title=\"Suggest charts\"\n",
              "            style=\"display:none;\">\n",
              "\n",
              "<svg xmlns=\"http://www.w3.org/2000/svg\" height=\"24px\"viewBox=\"0 0 24 24\"\n",
              "     width=\"24px\">\n",
              "    <g>\n",
              "        <path d=\"M19 3H5c-1.1 0-2 .9-2 2v14c0 1.1.9 2 2 2h14c1.1 0 2-.9 2-2V5c0-1.1-.9-2-2-2zM9 17H7v-7h2v7zm4 0h-2V7h2v10zm4 0h-2v-4h2v4z\"/>\n",
              "    </g>\n",
              "</svg>\n",
              "  </button>\n",
              "\n",
              "<style>\n",
              "  .colab-df-quickchart {\n",
              "      --bg-color: #E8F0FE;\n",
              "      --fill-color: #1967D2;\n",
              "      --hover-bg-color: #E2EBFA;\n",
              "      --hover-fill-color: #174EA6;\n",
              "      --disabled-fill-color: #AAA;\n",
              "      --disabled-bg-color: #DDD;\n",
              "  }\n",
              "\n",
              "  [theme=dark] .colab-df-quickchart {\n",
              "      --bg-color: #3B4455;\n",
              "      --fill-color: #D2E3FC;\n",
              "      --hover-bg-color: #434B5C;\n",
              "      --hover-fill-color: #FFFFFF;\n",
              "      --disabled-bg-color: #3B4455;\n",
              "      --disabled-fill-color: #666;\n",
              "  }\n",
              "\n",
              "  .colab-df-quickchart {\n",
              "    background-color: var(--bg-color);\n",
              "    border: none;\n",
              "    border-radius: 50%;\n",
              "    cursor: pointer;\n",
              "    display: none;\n",
              "    fill: var(--fill-color);\n",
              "    height: 32px;\n",
              "    padding: 0;\n",
              "    width: 32px;\n",
              "  }\n",
              "\n",
              "  .colab-df-quickchart:hover {\n",
              "    background-color: var(--hover-bg-color);\n",
              "    box-shadow: 0 1px 2px rgba(60, 64, 67, 0.3), 0 1px 3px 1px rgba(60, 64, 67, 0.15);\n",
              "    fill: var(--button-hover-fill-color);\n",
              "  }\n",
              "\n",
              "  .colab-df-quickchart-complete:disabled,\n",
              "  .colab-df-quickchart-complete:disabled:hover {\n",
              "    background-color: var(--disabled-bg-color);\n",
              "    fill: var(--disabled-fill-color);\n",
              "    box-shadow: none;\n",
              "  }\n",
              "\n",
              "  .colab-df-spinner {\n",
              "    border: 2px solid var(--fill-color);\n",
              "    border-color: transparent;\n",
              "    border-bottom-color: var(--fill-color);\n",
              "    animation:\n",
              "      spin 1s steps(1) infinite;\n",
              "  }\n",
              "\n",
              "  @keyframes spin {\n",
              "    0% {\n",
              "      border-color: transparent;\n",
              "      border-bottom-color: var(--fill-color);\n",
              "      border-left-color: var(--fill-color);\n",
              "    }\n",
              "    20% {\n",
              "      border-color: transparent;\n",
              "      border-left-color: var(--fill-color);\n",
              "      border-top-color: var(--fill-color);\n",
              "    }\n",
              "    30% {\n",
              "      border-color: transparent;\n",
              "      border-left-color: var(--fill-color);\n",
              "      border-top-color: var(--fill-color);\n",
              "      border-right-color: var(--fill-color);\n",
              "    }\n",
              "    40% {\n",
              "      border-color: transparent;\n",
              "      border-right-color: var(--fill-color);\n",
              "      border-top-color: var(--fill-color);\n",
              "    }\n",
              "    60% {\n",
              "      border-color: transparent;\n",
              "      border-right-color: var(--fill-color);\n",
              "    }\n",
              "    80% {\n",
              "      border-color: transparent;\n",
              "      border-right-color: var(--fill-color);\n",
              "      border-bottom-color: var(--fill-color);\n",
              "    }\n",
              "    90% {\n",
              "      border-color: transparent;\n",
              "      border-bottom-color: var(--fill-color);\n",
              "    }\n",
              "  }\n",
              "</style>\n",
              "\n",
              "  <script>\n",
              "    async function quickchart(key) {\n",
              "      const quickchartButtonEl =\n",
              "        document.querySelector('#' + key + ' button');\n",
              "      quickchartButtonEl.disabled = true;  // To prevent multiple clicks.\n",
              "      quickchartButtonEl.classList.add('colab-df-spinner');\n",
              "      try {\n",
              "        const charts = await google.colab.kernel.invokeFunction(\n",
              "            'suggestCharts', [key], {});\n",
              "      } catch (error) {\n",
              "        console.error('Error during call to suggestCharts:', error);\n",
              "      }\n",
              "      quickchartButtonEl.classList.remove('colab-df-spinner');\n",
              "      quickchartButtonEl.classList.add('colab-df-quickchart-complete');\n",
              "    }\n",
              "    (() => {\n",
              "      let quickchartButtonEl =\n",
              "        document.querySelector('#df-802def7c-2177-43c2-b496-cd9b1920dadc button');\n",
              "      quickchartButtonEl.style.display =\n",
              "        google.colab.kernel.accessAllowed ? 'block' : 'none';\n",
              "    })();\n",
              "  </script>\n",
              "</div>\n",
              "\n",
              "    </div>\n",
              "  </div>\n"
            ],
            "application/vnd.google.colaboratory.intrinsic+json": {
              "type": "dataframe",
              "variable_name": "df",
              "summary": "{\n  \"name\": \"df\",\n  \"rows\": 2,\n  \"fields\": [\n    {\n      \"column\": \"name\",\n      \"properties\": {\n        \"dtype\": \"string\",\n        \"num_unique_values\": 2,\n        \"samples\": [\n          \"Jane Smith\",\n          \"John Doe\"\n        ],\n        \"semantic_type\": \"\",\n        \"description\": \"\"\n      }\n    },\n    {\n      \"column\": \"age\",\n      \"properties\": {\n        \"dtype\": \"string\",\n        \"num_unique_values\": 2,\n        \"samples\": [\n          \"28\",\n          \"30\"\n        ],\n        \"semantic_type\": \"\",\n        \"description\": \"\"\n      }\n    },\n    {\n      \"column\": \"skills\",\n      \"properties\": {\n        \"dtype\": \"string\",\n        \"num_unique_values\": 1,\n        \"samples\": [\n          \"\\n            \"\n        ],\n        \"semantic_type\": \"\",\n        \"description\": \"\"\n      }\n    }\n  ]\n}"
            }
          },
          "metadata": {},
          "execution_count": 81
        }
      ]
    },
    {
      "cell_type": "markdown",
      "source": [
        "### 4. HTML(HyperText Markup Language)\n",
        "\n",
        "Overview\n",
        "\n",
        "While primarily used for web pages, HTML is often a source of data through web scraping.\n",
        "\n",
        "Structure\n",
        "\n",
        "\n",
        "```\n",
        "<table>\n",
        "    <tr>\n",
        "        <th>Name</th>\n",
        "        <th>Age</th>\n",
        "        <th>City</th>\n",
        "    </tr>\n",
        "    <tr>\n",
        "        <td>John Doe</td>\n",
        "        <td>30</td>\n",
        "        <td>New York</td>\n",
        "    </tr>\n",
        "</table>\n",
        "```"
      ],
      "metadata": {
        "id": "Qd5nsuFVF36w"
      }
    },
    {
      "cell_type": "code",
      "source": [
        "# working with HTML in Python\n",
        "\n",
        "import pandas as pd\n",
        "\n",
        "# Reading tables from HTML\n",
        "tables = pd.read_html('http://example.com/table.html')\n",
        "df = tables[0]  # First table\n",
        "\n",
        "# Web scraping with BeautifulSoup\n",
        "from bs4 import BeautifulSoup\n",
        "import requests\n",
        "\n",
        "response = requests.get('http://example.com')\n",
        "soup = BeautifulSoup(response.text, 'html.parser')\n",
        "data = soup.find_all('table')"
      ],
      "metadata": {
        "id": "0ju2hnyIGFCh"
      },
      "execution_count": null,
      "outputs": []
    },
    {
      "cell_type": "markdown",
      "source": [
        "### 5. Databases\n",
        "\n",
        "SQL Databases\n",
        "\n",
        "Common Types\n",
        "\n",
        "* PostgreSQL\n",
        "* MySQL\n",
        "* SQLite\n",
        "* Oracle\n",
        "* Microsoft SQL Server"
      ],
      "metadata": {
        "id": "bACVxO9hGMnM"
      }
    },
    {
      "cell_type": "code",
      "source": [
        "import pandas as pd\n",
        "from sqlalchemy import create_engine\n",
        "\n",
        "# Step 1: Create a SQLite database connection\n",
        "engine = create_engine('sqlite:///employees.db')\n",
        "\n",
        "# Step 2: Create a sample DataFrame\n",
        "data = {\n",
        "    'name': ['John Doe', 'Jane Smith', 'Alice Johnson'],\n",
        "    'age': [30, 28, 25],\n",
        "    'city': ['New York', 'San Francisco', 'Los Angeles']\n",
        "}\n",
        "df = pd.DataFrame(data)\n",
        "\n",
        "# Step 3: Write the DataFrame to a table in the SQLite database\n",
        "df.to_sql('employees', engine, if_exists='replace', index=False)\n",
        "\n",
        "# Step 4: Read the data back from the SQLite database\n",
        "df_read = pd.read_sql('SELECT * FROM employees', engine)\n",
        "\n",
        "# Step 5: Display the DataFrame read from the SQLite database\n",
        "print(\"DataFrame read from employees.db:\")\n",
        "print(df_read)\n",
        "\n",
        "# Optional: Close the engine connection\n",
        "engine.dispose()\n"
      ],
      "metadata": {
        "colab": {
          "base_uri": "https://localhost:8080/"
        },
        "id": "xsTJh5W97OoB",
        "outputId": "83da36a4-946c-4400-b29a-dabee72bbf2b"
      },
      "execution_count": null,
      "outputs": [
        {
          "output_type": "stream",
          "name": "stdout",
          "text": [
            "DataFrame read from employees.db:\n",
            "            name  age           city\n",
            "0       John Doe   30       New York\n",
            "1     Jane Smith   28  San Francisco\n",
            "2  Alice Johnson   25    Los Angeles\n"
          ]
        }
      ]
    },
    {
      "cell_type": "markdown",
      "source": [
        "NoSQL Databases\n",
        "\n",
        "Common Types\n",
        "\n",
        "1. Document Stores\n",
        "\n",
        "   * MongoDB\n",
        "   * CouchDB\n",
        "\n",
        "\n",
        "2. Key-Value Stores\n",
        "\n",
        "   * Redis\n",
        "   * DynamoDB\n",
        "\n",
        "\n",
        "3. Wide-Column Stores\n",
        "\n",
        "   * Cassandra\n",
        "   * HBase\n",
        "\n",
        "\n",
        "4. Graph Databases\n",
        "\n",
        "    * Neo4j\n",
        "    * ArangoDB"
      ],
      "metadata": {
        "id": "LmbhNFpcGpUJ"
      }
    },
    {
      "cell_type": "code",
      "source": [
        "# Working with MongoDB\n",
        "\n",
        "from pymongo import MongoClient\n",
        "\n",
        "# Connect to MongoDB\n",
        "client = MongoClient('mongodb://localhost:27017/')\n",
        "db = client['database_name']\n",
        "\n",
        "# Reading data\n",
        "data = list(db.collection_name.find())\n",
        "df = pd.DataFrame(data)\n",
        "\n",
        "# Writing data\n",
        "records = df.to_dict('records')\n",
        "db.collection_name.insert_many(records)"
      ],
      "metadata": {
        "id": "MhcYpg3fHERx"
      },
      "execution_count": null,
      "outputs": []
    },
    {
      "cell_type": "markdown",
      "source": [
        "#### 6. Other Common Data Formats\n"
      ],
      "metadata": {
        "id": "VVTIB-weHoAL"
      }
    },
    {
      "cell_type": "markdown",
      "source": [
        "##### 1. Parquet\n",
        "\n",
        "Parquet is an efficient, flexible, and powerful data format that is well-suited for modern data storage and processing needs. Its columnar storage design, combined with features like efficient compression, schema evolution, and compatibility with various tools, makes it a popular choice in big data and analytics workflows."
      ],
      "metadata": {
        "id": "ZBLSpyZ-Hy1B"
      }
    },
    {
      "cell_type": "code",
      "source": [
        "import pandas as pd\n",
        "\n",
        "# Create a sample DataFrame\n",
        "data = {\n",
        "    'name': ['John', 'Jane', 'Alice'],\n",
        "    'age': [30, 28, 25],\n",
        "    'city': ['New York', 'San Francisco', 'Los Angeles']\n",
        "}\n",
        "df = pd.DataFrame(data)\n",
        "\n",
        "# Write the DataFrame to a Parquet file\n",
        "df.to_parquet('employees.parquet')\n",
        "\n",
        "# Read the Parquet file into a DataFrame\n",
        "df_read = pd.read_parquet('employees.parquet')\n",
        "\n",
        "print(\"DataFrame read from employees.parquet:\")\n",
        "print(df_read)\n"
      ],
      "metadata": {
        "colab": {
          "base_uri": "https://localhost:8080/"
        },
        "id": "UksihCTt6t7Q",
        "outputId": "656b5002-47bf-4d76-ed94-9e8abcf22bf6"
      },
      "execution_count": null,
      "outputs": [
        {
          "output_type": "stream",
          "name": "stdout",
          "text": [
            "DataFrame read from employees.parquet:\n",
            "    name  age           city\n",
            "0   John   30       New York\n",
            "1   Jane   28  San Francisco\n",
            "2  Alice   25    Los Angeles\n"
          ]
        }
      ]
    },
    {
      "cell_type": "markdown",
      "source": [
        "##### 2. HDFS(Hierarchical Data Format)"
      ],
      "metadata": {
        "id": "a9e6L8B6H5NV"
      }
    },
    {
      "cell_type": "code",
      "source": [
        "# Reading HDF5\n",
        "df = pd.read_hdf('data.h5', 'dataset_name')\n",
        "\n",
        "# Writing HDF5\n",
        "df.to_hdf('output.h5', key='dataset_name')"
      ],
      "metadata": {
        "id": "ESPE-ag5H-FD"
      },
      "execution_count": null,
      "outputs": []
    },
    {
      "cell_type": "markdown",
      "source": [
        "##### 3. Excel Files"
      ],
      "metadata": {
        "id": "VydvI8M4IAkq"
      }
    },
    {
      "cell_type": "code",
      "source": [
        "# Reading Excel\n",
        "df = pd.read_excel('data.xlsx', sheet_name='Sheet1')\n",
        "\n",
        "# Writing Excel\n",
        "df.to_excel('output.xlsx', sheet_name='Sheet1')"
      ],
      "metadata": {
        "id": "2wPV0rKRIEjz"
      },
      "execution_count": null,
      "outputs": []
    },
    {
      "cell_type": "markdown",
      "source": [
        "Best Practices for Data Format Selection\n",
        "\n",
        "1. Consider Data Structure\n",
        "\n",
        " * Tabular Data → CSV, Excel\n",
        " * Hierarchical Data → JSON, XML\n",
        " * Complex Relationships → Databases\n",
        "\n",
        "\n",
        "2. Consider File Size\n",
        "\n",
        " * Small Data → CSV, JSON\n",
        " * Large Data → Parquet, HDF5, Databases\n",
        "\n",
        "\n",
        "3. Consider Use Case\n",
        "\n",
        " * Data Exchange → JSON, XML\n",
        " * Analytics → CSV, Parquet\n",
        " * Application Storage → Databases\n",
        "\n",
        "\n",
        "4. Consider Processing Requirements\n",
        "\n",
        " * Speed → Parquet, HDF5\n",
        " * Human Readability → CSV, JSON\n",
        " * Complex Queries → SQL Databases"
      ],
      "metadata": {
        "id": "TVP81jtSIGtW"
      }
    },
    {
      "cell_type": "markdown",
      "source": [
        "## Data Visualization\n",
        "\n",
        "Data visualization is crucial for understanding patterns, trends, and relationships in data. This guide covers the most common plot types, their use cases, and implementation using both Matplotlib and Seaborn.\n"
      ],
      "metadata": {
        "id": "aAhtecc4NoS4"
      }
    },
    {
      "cell_type": "code",
      "source": [
        "# Setup and common imports\n",
        "\n",
        "import matplotlib.pyplot as plt\n",
        "import seaborn as sns\n",
        "import numpy as np\n",
        "import pandas as pd\n",
        "\n",
        "# Set style for better-looking plots\n",
        "plt.style.use('seaborn')\n",
        "sns.set_palette(\"husl\")\n",
        "\n",
        "# For inline plotting in Jupyter notebooks\n",
        "%matplotlib inline"
      ],
      "metadata": {
        "id": "a4fRj3qtLXsM"
      },
      "execution_count": null,
      "outputs": []
    },
    {
      "cell_type": "markdown",
      "source": [
        "### 1. Line Plots\n",
        "\n",
        "Use Cases\n",
        "\n",
        "* Time series data\n",
        "* Trend analysis\n",
        "* Continuous variables over a sequence\n",
        "* Comparing multiple trends over time"
      ],
      "metadata": {
        "id": "4B-lXpNkLdjE"
      }
    },
    {
      "cell_type": "code",
      "source": [
        "#import numpy as np\n",
        "import pandas as pd\n",
        "import matplotlib.pyplot as plt\n",
        "import seaborn as sns\n",
        "\n",
        "# Generating synthetic time series data\n",
        "np.random.seed(0)  # For reproducibility\n",
        "time_period = pd.date_range(start='2020-01-01', periods=100, freq='D')\n",
        "x_data = time_period\n",
        "y_data = np.sin(np.linspace(0, 3 * np.pi, 100)) + np.random.normal(scale=0.1, size=100)  # Sine wave with noise\n",
        "\n",
        "# Creating a DataFrame for Seaborn\n",
        "categories = np.random.choice(['A', 'B'], size=100)\n",
        "df = pd.DataFrame({\n",
        "    'time_column': x_data,\n",
        "    'value_column': y_data,\n",
        "    'category': categories\n",
        "})\n",
        "\n",
        "# Seaborn Line Plot\n",
        "plt.figure(figsize=(10, 6))\n",
        "sns.lineplot(data=df, x='time_column', y='value_column', hue='category', palette='Set1')\n",
        "plt.title('Time Series Analysis with Seaborn')\n",
        "plt.xlabel('Time')\n",
        "plt.ylabel('Value')\n",
        "plt.show()\n"
      ],
      "metadata": {
        "colab": {
          "base_uri": "https://localhost:8080/",
          "height": 564
        },
        "id": "SVknN0pTLood",
        "outputId": "165870b7-0e36-4686-c7a1-a9319ad3d36b"
      },
      "execution_count": null,
      "outputs": [
        {
          "output_type": "display_data",
          "data": {
            "text/plain": [
              "<Figure size 1000x600 with 1 Axes>"
            ],
            "image/png": "[encoded data removed]"
          },
          "metadata": {}
        }
      ]
    },
    {
      "cell_type": "markdown",
      "source": [
        "Best Practices\n",
        "\n",
        "* Use when showing continuous change over time\n",
        "* Include clear axis labels and units\n",
        "* Consider using different line styles for multiple series\n",
        "* Add markers for important data points\n",
        "* Use appropriate y-axis scale"
      ],
      "metadata": {
        "id": "juXLqcLgLrQi"
      }
    },
    {
      "cell_type": "markdown",
      "source": [
        "### 2. Bar Plots\n",
        "\n",
        "Use Cases\n",
        "\n",
        "* Comparing quantities across categories\n",
        "* Showing distribution of categorical data\n",
        "* Displaying summary statistics\n",
        "* Comparing groups or time periods"
      ],
      "metadata": {
        "id": "n6ob1IokLy6s"
      }
    },
    {
      "cell_type": "code",
      "source": [
        "# Adding a 'group' column to the original DataFrame for grouped bar charts\n",
        "groups = np.random.choice(['Group 1', 'Group 2'], size=100)\n",
        "df['group'] = groups\n",
        "\n",
        "# Generating new values for vertical bars\n",
        "values = np.random.randint(1, 10, size=len(set(categories)))\n",
        "\n",
        "# Matplotlib Vertical Bar Chart\n",
        "fig, ax = plt.subplots(figsize=(10, 6))\n",
        "ax.bar(np.unique(categories), values, color='skyblue')\n",
        "ax.set_xlabel('Categories')\n",
        "ax.set_ylabel('Values')\n",
        "ax.set_title('Vertical Bar Chart with Matplotlib')\n",
        "plt.xticks(rotation=45)\n",
        "plt.show()\n",
        "\n",
        "# Seaborn Horizontal Bar Chart\n",
        "plt.figure(figsize=(10, 6))\n",
        "sns.barplot(data=df, x='value_column', y='category', orient='h', palette='Set2')\n",
        "plt.title('Horizontal Bar Chart with Seaborn')\n",
        "plt.xlabel('Value')\n",
        "plt.ylabel('Category')\n",
        "plt.show()\n",
        "\n",
        "# Grouped Bars\n",
        "grouped_data = df.groupby(['category', 'group'])['value_column'].mean().unstack()\n",
        "grouped_data.plot(kind='bar', figsize=(10, 6))\n",
        "plt.title('Grouped Bar Chart')\n",
        "plt.xlabel('Category')\n",
        "plt.ylabel('Mean Value')\n",
        "plt.xticks(rotation=45)\n",
        "plt.legend(title='Group')\n",
        "plt.show()\n"
      ],
      "metadata": {
        "colab": {
          "base_uri": "https://localhost:8080/",
          "height": 1000
        },
        "id": "AyStNXUILwOE",
        "outputId": "5da74ffe-de1b-43e5-ca53-62f26ba79178"
      },
      "execution_count": null,
      "outputs": [
        {
          "output_type": "display_data",
          "data": {
            "text/plain": [
              "<Figure size 1000x600 with 1 Axes>"
            ],
            "image/png": "[encoded data removed]"
          },
          "metadata": {}
        },
        {
          "output_type": "stream",
          "name": "stderr",
          "text": [
            "<ipython-input-92-a34f1458d810>:19: FutureWarning: \n",
            "\n",
            "Passing `palette` without assigning `hue` is deprecated and will be removed in v0.14.0. Assign the `y` variable to `hue` and set `legend=False` for the same effect.\n",
            "\n",
            "  sns.barplot(data=df, x='value_column', y='category', orient='h', palette='Set2')\n"
          ]
        },
        {
          "output_type": "display_data",
          "data": {
            "text/plain": [
              "<Figure size 1000x600 with 1 Axes>"
            ],
            "image/png": "[encoded data removed]"
          },
          "metadata": {}
        },
        {
          "output_type": "display_data",
          "data": {
            "text/plain": [
              "<Figure size 1000x600 with 1 Axes>"
            ],
            "image/png": "[encoded data removed]"
          },
          "metadata": {}
        }
      ]
    },
    {
      "cell_type": "markdown",
      "source": [
        "Best Practices\n",
        "\n",
        "* Use consistent colors for categories\n",
        "* Start y-axis at zero for fair comparisons\n",
        "* Order bars by value for better readability\n",
        "* Use horizontal bars for long category names\n",
        "* Add value labels when appropriate"
      ],
      "metadata": {
        "id": "2v58Y3VkL-AL"
      }
    },
    {
      "cell_type": "markdown",
      "source": [
        "### 3. Histogram and Density Plots\n",
        "\n",
        "Use Cases\n",
        "\n",
        "* Visualizing data distribution\n",
        "* Checking for normality\n",
        "* Understanding spread and skewness\n",
        "* Comparing distributions"
      ],
      "metadata": {
        "id": "ZGGxQkiIMEnG"
      }
    },
    {
      "cell_type": "code",
      "source": [
        "# Generating synthetic data for histograms\n",
        "data = np.random.normal(loc=0, scale=1, size=1000)  # Normal distribution data\n",
        "\n",
        "# Matplotlib Histogram\n",
        "plt.figure(figsize=(10, 6))\n",
        "plt.hist(data, bins=30, density=True, alpha=0.7, color='steelblue')\n",
        "plt.title('Histogram with Matplotlib')\n",
        "plt.xlabel('Value')\n",
        "plt.ylabel('Density')\n",
        "plt.grid(axis='y')\n",
        "plt.show()\n",
        "\n",
        "# Combined Histogram and KDE\n",
        "plt.figure(figsize=(10, 6))\n",
        "sns.histplot(data=df['value_column'], stat='density', kde=True, bins=30, color='lightgreen')\n",
        "plt.title('Combined Histogram and KDE')\n",
        "plt.xlabel('Value')\n",
        "plt.ylabel('Density')\n",
        "plt.show()\n"
      ],
      "metadata": {
        "colab": {
          "base_uri": "https://localhost:8080/",
          "height": 1000
        },
        "id": "eBndiV368xL6",
        "outputId": "afc49bee-744e-489c-da20-1a9d529792ef"
      },
      "execution_count": null,
      "outputs": [
        {
          "output_type": "display_data",
          "data": {
            "text/plain": [
              "<Figure size 1000x600 with 1 Axes>"
            ],
            "image/png": "[encoded data removed]"
          },
          "metadata": {}
        },
        {
          "output_type": "display_data",
          "data": {
            "text/plain": [
              "<Figure size 1000x600 with 1 Axes>"
            ],
            "image/png": "[encoded data removed]"
          },
          "metadata": {}
        }
      ]
    },
    {
      "cell_type": "markdown",
      "source": [
        "Best Practices\n",
        "\n",
        "* Choose appropriate bin width\n",
        "* Consider density plots for smooth distributions\n",
        "* Use transparency for overlapping distributions\n",
        "* Add rug plots for small datasets\n",
        "* Compare with normal distribution when relevant"
      ],
      "metadata": {
        "id": "wACgmZtuMRae"
      }
    },
    {
      "cell_type": "markdown",
      "source": [
        "### 4. Scatter and Point Plots\n",
        "\n",
        "Use Cases:\n",
        "\n",
        "* Showing relationships between variables\n",
        "* Identifying correlations\n",
        "* Detecting clusters or patterns\n",
        "* Visualizing grouped data points"
      ],
      "metadata": {
        "id": "a3JMBFB8MaAQ"
      }
    },
    {
      "cell_type": "code",
      "source": [
        "# Generating synthetic data for scatter plots\n",
        "x_data = np.random.rand(100)  # 100 random points for x\n",
        "y_data = np.random.rand(100)  # 100 random points for y\n",
        "\n",
        "# Adding 'variable1' and 'variable2' to the DataFrame for scatter plots\n",
        "df['variable1'] = np.random.rand(100)\n",
        "df['variable2'] = np.random.rand(100)\n",
        "\n",
        "# Simple Scatter Plot (Matplotlib)\n",
        "plt.figure(figsize=(10, 6))\n",
        "plt.scatter(x_data, y_data, alpha=0.5, color='orange')\n",
        "plt.title('Simple Scatter Plot with Matplotlib')\n",
        "plt.xlabel('X Data')\n",
        "plt.ylabel('Y Data')\n",
        "plt.grid(True)\n",
        "plt.show()\n",
        "\n",
        "# Advanced Scatter Plot (Seaborn)\n",
        "plt.figure(figsize=(10, 6))\n",
        "sns.scatterplot(\n",
        "    data=df,\n",
        "    x='variable1',\n",
        "    y='variable2',\n",
        "    hue='category',\n",
        "    size='value_column',\n",
        "    style='group',\n",
        "    palette='Set2'\n",
        ")\n",
        "plt.title('Advanced Scatter Plot with Seaborn')\n",
        "plt.xlabel('Variable 1')\n",
        "plt.ylabel('Variable 2')\n",
        "plt.legend()\n",
        "plt.show()\n",
        "\n",
        "# Add Regression Line\n",
        "plt.figure(figsize=(10, 6))\n",
        "sns.regplot(data=df, x='variable1', y='variable2', scatter_kws={'alpha':0.5}, line_kws={'color':'red'})\n",
        "plt.title('Regression Line on Scatter Plot')\n",
        "plt.xlabel('Variable 1')\n",
        "plt.ylabel('Variable 2')\n",
        "plt.show()\n"
      ],
      "metadata": {
        "colab": {
          "base_uri": "https://localhost:8080/",
          "height": 1000
        },
        "id": "kiC8Fy8bMZaQ",
        "outputId": "8cca606b-d50b-40ac-d7a7-0e07f7859c7e"
      },
      "execution_count": null,
      "outputs": [
        {
          "output_type": "display_data",
          "data": {
            "text/plain": [
              "<Figure size 1000x600 with 1 Axes>"
            ],
            "image/png": "[encoded data removed]"
          },
          "metadata": {}
        },
        {
          "output_type": "display_data",
          "data": {
            "text/plain": [
              "<Figure size 1000x600 with 1 Axes>"
            ],
            "image/png": "[encoded data removed]"
          },
          "metadata": {}
        },
        {
          "output_type": "display_data",
          "data": {
            "text/plain": [
              "<Figure size 1000x600 with 1 Axes>"
            ],
            "image/png": "[encoded data removed]"
          },
          "metadata": {}
        }
      ]
    },
    {
      "cell_type": "markdown",
      "source": [
        "Best Practices\n",
        "\n",
        "* Use appropriate marker sizes\n",
        "* Add transparency for dense plots\n",
        "* Include confidence intervals when relevant\n",
        "* Consider adding trend lines\n",
        "* Use color to represent additional dimensions"
      ],
      "metadata": {
        "id": "CTqGwDKQMovF"
      }
    },
    {
      "cell_type": "markdown",
      "source": [
        "### 5. Box Plots\n",
        "\n",
        "Use cases:\n",
        "\n",
        "* Showing data distribution characteristics\n",
        "* Identifying outliers\n",
        "* Comparing distributions across groups\n",
        "* Visualizing summary statistics\n",
        "\n",
        "\n",
        "\n"
      ],
      "metadata": {
        "id": "u5t9WqxqMuem"
      }
    },
    {
      "cell_type": "code",
      "source": [
        "# Generating synthetic data for box plots\n",
        "data = np.random.normal(loc=0, scale=1, size=100)  # Normal distribution data\n",
        "\n",
        "# Simple Box Plot (Matplotlib)\n",
        "plt.figure(figsize=(10, 6))\n",
        "plt.boxplot(data)\n",
        "plt.title('Simple Box Plot with Matplotlib')\n",
        "plt.ylabel('Value')\n",
        "plt.xticks([1], ['Data'])\n",
        "plt.grid(axis='y')\n",
        "plt.show()\n",
        "\n",
        "# Enhanced Box Plot (Seaborn)\n",
        "plt.figure(figsize=(10, 6))\n",
        "sns.boxplot(data=df, x='category', y='value_column', palette='Set2')\n",
        "plt.title('Enhanced Box Plot with Seaborn')\n",
        "plt.xlabel('Category')\n",
        "plt.ylabel('Value')\n",
        "plt.show()\n",
        "\n",
        "# Box Plot with Individual Points\n",
        "plt.figure(figsize=(10, 6))\n",
        "sns.boxenplot(data=df, x='category', y='value_column', palette='Set1')\n",
        "plt.title('Boxen Plot with Seaborn')\n",
        "plt.xlabel('Category')\n",
        "plt.ylabel('Value')\n",
        "plt.show()\n"
      ],
      "metadata": {
        "colab": {
          "base_uri": "https://localhost:8080/",
          "height": 1000
        },
        "id": "5M3RKB3CMtgH",
        "outputId": "3a0de094-bf87-4643-f336-d51f7e428561"
      },
      "execution_count": null,
      "outputs": [
        {
          "output_type": "display_data",
          "data": {
            "text/plain": [
              "<Figure size 1000x600 with 1 Axes>"
            ],
            "image/png": "[encoded data removed]"
          },
          "metadata": {}
        },
        {
          "output_type": "stream",
          "name": "stderr",
          "text": [
            "<ipython-input-96-e0c20643e6cf>:15: FutureWarning: \n",
            "\n",
            "Passing `palette` without assigning `hue` is deprecated and will be removed in v0.14.0. Assign the `x` variable to `hue` and set `legend=False` for the same effect.\n",
            "\n",
            "  sns.boxplot(data=df, x='category', y='value_column', palette='Set2')\n"
          ]
        },
        {
          "output_type": "display_data",
          "data": {
            "text/plain": [
              "<Figure size 1000x600 with 1 Axes>"
            ],
            "image/png": "[encoded data removed]"
          },
          "metadata": {}
        },
        {
          "output_type": "stream",
          "name": "stderr",
          "text": [
            "<ipython-input-96-e0c20643e6cf>:23: FutureWarning: \n",
            "\n",
            "Passing `palette` without assigning `hue` is deprecated and will be removed in v0.14.0. Assign the `x` variable to `hue` and set `legend=False` for the same effect.\n",
            "\n",
            "  sns.boxenplot(data=df, x='category', y='value_column', palette='Set1')\n"
          ]
        },
        {
          "output_type": "display_data",
          "data": {
            "text/plain": [
              "<Figure size 1000x600 with 1 Axes>"
            ],
            "image/png": "[encoded data removed]"
          },
          "metadata": {}
        }
      ]
    },
    {
      "cell_type": "markdown",
      "source": [
        "Best Practices\n",
        "\n",
        "* Show individual points for small datasets\n",
        "* Order categories meaningfully\n",
        "* Add notches for median comparison\n",
        "* Consider violin plots for density visualization\n",
        "* Remove unnecessary grid lines"
      ],
      "metadata": {
        "id": "2XDmc5yTM8Gl"
      }
    },
    {
      "cell_type": "markdown",
      "source": [
        "### 6. Pie Charts\n",
        "\n",
        "Use cases:\n",
        "\n",
        "* Showing composition of a whole\n",
        "* Displaying percentages\n",
        "* Simple part-to-whole relationships\n",
        "* Limited number of categories"
      ],
      "metadata": {
        "id": "fU3ODuLgNDwp"
      }
    },
    {
      "cell_type": "code",
      "source": [
        "# Generating synthetic data for pie charts\n",
        "sizes = [15, 30, 45, 10]  # Example sizes for pie chart\n",
        "labels = ['Category A', 'Category B', 'Category C', 'Category D']\n",
        "\n",
        "# Basic Pie Chart\n",
        "plt.figure(figsize=(8, 8))\n",
        "plt.pie(sizes, labels=labels, autopct='%1.1f%%', startangle=90)\n",
        "plt.title('Basic Pie Chart')\n",
        "plt.axis('equal')  # Equal aspect ratio ensures that pie is drawn as a circle.\n",
        "plt.show()\n",
        "\n",
        "# Donut Chart\n",
        "plt.figure(figsize=(8, 8))\n",
        "plt.pie(sizes, labels=labels, autopct='%1.1f%%', pctdistance=0.85, startangle=90)\n",
        "centre_circle = plt.Circle((0, 0), 0.70, fc='white')\n",
        "plt.gca().add_artist(centre_circle)\n",
        "plt.title('Donut Chart')\n",
        "plt.axis('equal')  # Equal aspect ratio ensures that donut is drawn as a circle.\n",
        "plt.show()\n"
      ],
      "metadata": {
        "colab": {
          "base_uri": "https://localhost:8080/",
          "height": 1000
        },
        "id": "_gL14WXPNBit",
        "outputId": "5a084188-7655-4801-b0d4-a3b048f7ab47"
      },
      "execution_count": null,
      "outputs": [
        {
          "output_type": "display_data",
          "data": {
            "text/plain": [
              "<Figure size 800x800 with 1 Axes>"
            ],
            "image/png": "[encoded data removed]"
          },
          "metadata": {}
        },
        {
          "output_type": "display_data",
          "data": {
            "text/plain": [
              "<Figure size 800x800 with 1 Axes>"
            ],
            "image/png": "[encoded data removed]"
          },
          "metadata": {}
        }
      ]
    },
    {
      "cell_type": "markdown",
      "source": [
        "Best Practices\n",
        "\n",
        "* Limit to 5-7 categories maximum\n",
        "* Order slices by size\n",
        "* Start at 12 o'clock position\n",
        "* Use clear contrasting colors\n",
        "* Consider using donut charts for better readability"
      ],
      "metadata": {
        "id": "UVzRPMXKNQQY"
      }
    }
  ]
}